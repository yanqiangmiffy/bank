{
 "cells": [
  {
   "cell_type": "code",
   "execution_count": 354,
   "metadata": {
    "scrolled": true
   },
   "outputs": [],
   "source": [
    "import numpy as np\n",
    "import pandas as pd\n",
    "import seaborn as sns\n",
    "import matplotlib.pyplot as plt\n",
    "\n",
    "pd.set_option('max_columns', 100)\n",
    "%matplotlib inline"
   ]
  },
  {
   "cell_type": "code",
   "execution_count": 355,
   "metadata": {},
   "outputs": [],
   "source": [
    "from sklearn.preprocessing import StandardScaler\n",
    "ss = StandardScaler()"
   ]
  },
  {
   "cell_type": "code",
   "execution_count": 356,
   "metadata": {},
   "outputs": [],
   "source": [
    "def standardize_nan(x):\n",
    "    x_mean = np.nanmean(x)\n",
    "    x_std = np.nanstd(x)\n",
    "    return (x - x_mean) / x_std"
   ]
  },
  {
   "cell_type": "code",
   "execution_count": 357,
   "metadata": {},
   "outputs": [],
   "source": [
    "def add_dummies(obj, source, drop_unknown=True):\n",
    "    col_name = source.name\n",
    "    dummies = pd.get_dummies(source, prefix=col_name)\n",
    "    name_unknown = col_name + '_unknown'\n",
    "    if drop_unknown == True:\n",
    "        if name_unknown in dummies.columns:\n",
    "            dummies.drop([name_unknown], axis=1, inplace=True)\n",
    "    return pd.concat([obj, dummies], axis=1, sort=False)"
   ]
  },
  {
   "cell_type": "code",
   "execution_count": 358,
   "metadata": {},
   "outputs": [],
   "source": [
    "def add_yn_map(obj, source):\n",
    "    yn = source.map({'yes':1, 'no':0})\n",
    "    return pd.concat([obj, yn], axis=1, sort=False)"
   ]
  },
  {
   "cell_type": "code",
   "execution_count": 359,
   "metadata": {},
   "outputs": [],
   "source": [
    "df_train_raw = pd.read_csv('../input/train.csv')\n",
    "df_test_raw = pd.read_csv('../input/test.csv')\n",
    "df_train = df_train_raw.copy()\n",
    "df_test = df_test_raw.copy()\n",
    "train_len = len(df_train)"
   ]
  },
  {
   "cell_type": "markdown",
   "metadata": {},
   "source": [
    "## 外れ値"
   ]
  },
  {
   "cell_type": "code",
   "execution_count": 360,
   "metadata": {},
   "outputs": [],
   "source": [
    "outliers = df_train[df_train.balance>80000]\n",
    "outliers = pd.concat([outliers, df_train[df_train.duration>4000]], axis=0)\n",
    "outliers = pd.concat([outliers, df_train[df_train.previous>100]], axis=0)\n",
    "df_train = df_train.drop(outliers.index, axis=0)"
   ]
  },
  {
   "cell_type": "code",
   "execution_count": 361,
   "metadata": {},
   "outputs": [],
   "source": [
    "df_train.to_csv('./trian_without_outliers.csv', index=False)"
   ]
  },
  {
   "cell_type": "markdown",
   "metadata": {},
   "source": [
    "# データ整形"
   ]
  },
  {
   "cell_type": "markdown",
   "metadata": {},
   "source": [
    "dfではindexは振り直される"
   ]
  },
  {
   "cell_type": "code",
   "execution_count": 362,
   "metadata": {},
   "outputs": [],
   "source": [
    "train_len = len(df_train)\n",
    "df = pd.concat([df_train, df_test], axis=0, ignore_index=True, sort=False)\n",
    "#df_new = pd.DataFrame(df['y']).copy()"
   ]
  },
  {
   "cell_type": "markdown",
   "metadata": {},
   "source": [
    "## 連続値"
   ]
  },
  {
   "cell_type": "markdown",
   "metadata": {},
   "source": [
    "- age : 年齢"
   ]
  },
  {
   "cell_type": "code",
   "execution_count": 363,
   "metadata": {},
   "outputs": [],
   "source": [
    "df['age_log'] = np.log(df.age)\n",
    "df['age_log_std'] = standardize_nan(df['age_log'])"
   ]
  },
  {
   "cell_type": "markdown",
   "metadata": {},
   "source": [
    "- balance : 年間平均残高"
   ]
  },
  {
   "cell_type": "code",
   "execution_count": 364,
   "metadata": {},
   "outputs": [],
   "source": [
    "df['balance_p_nan'] = df['balance'].where(df.balance>0, np.nan)\n",
    "df['balance_m_nan'] = df['balance'].where(df.balance<0, np.nan)\n",
    "\n",
    "df['balance_p_log_nan'] = np.log(df['balance_p_nan'])\n",
    "df['balance_m_log_nan'] = np.log(-df['balance_m_nan'])\n",
    "\n",
    "df['balance_p_log_std_nan'] = standardize_nan(df['balance_p_log_nan'])\n",
    "df['balance_m_log_std_nan'] = standardize_nan(df['balance_m_log_nan'])"
   ]
  },
  {
   "cell_type": "code",
   "execution_count": 365,
   "metadata": {
    "scrolled": true
   },
   "outputs": [],
   "source": [
    "df['balance_sign'] = np.sign(df['balance'])"
   ]
  },
  {
   "cell_type": "markdown",
   "metadata": {},
   "source": [
    "- day : 最終接触日  \n",
    "外す"
   ]
  },
  {
   "cell_type": "markdown",
   "metadata": {},
   "source": [
    "- month : 最終接触月"
   ]
  },
  {
   "cell_type": "code",
   "execution_count": 366,
   "metadata": {
    "scrolled": false
   },
   "outputs": [],
   "source": [
    "df['month'] = df['month'].map({'jan':1,\n",
    "                       'feb':2,\n",
    "                       'mar':3,\n",
    "                       'apr':4,\n",
    "                       'may':5,\n",
    "                       'jun':6,\n",
    "                       'jul':7,\n",
    "                       'aug':8,\n",
    "                       'sep':9,\n",
    "                       'oct':10,\n",
    "                       'nov':11,\n",
    "                       'dec':12\n",
    "                      }).astype(int)"
   ]
  },
  {
   "cell_type": "code",
   "execution_count": 367,
   "metadata": {
    "scrolled": true
   },
   "outputs": [],
   "source": [
    "day_sum = pd.Series(np.cumsum([0, 31, 28, 31, 30, 31, 30, 31, 31, 30, 31, 30]),index=np.arange(1,13))\n",
    "\n",
    "df['date'] = (df['month'].map(day_sum) + df['day']).astype(int)"
   ]
  },
  {
   "cell_type": "code",
   "execution_count": 368,
   "metadata": {},
   "outputs": [],
   "source": [
    "df['week'] = df['date'] % 7"
   ]
  },
  {
   "cell_type": "markdown",
   "metadata": {},
   "source": [
    "- duration : 最終接触時間（秒）"
   ]
  },
  {
   "cell_type": "code",
   "execution_count": 369,
   "metadata": {},
   "outputs": [],
   "source": [
    "df['duration_log'] = np.log1p(df['duration'])\n",
    "df['duration_log_std'] = standardize_nan(df['duration_log'])"
   ]
  },
  {
   "cell_type": "code",
   "execution_count": 370,
   "metadata": {},
   "outputs": [],
   "source": [
    "df['duration_log_std_cut'] = pd.cut(df['duration_log_std'], bins=10)\n",
    "duration_cut_map = df.groupby('duration_log_std_cut')['y'].mean()\n",
    "df['y_mean_by_duration_log'] = df['duration_log_std_cut'].map(duration_cut_map)"
   ]
  },
  {
   "cell_type": "code",
   "execution_count": 371,
   "metadata": {
    "scrolled": false
   },
   "outputs": [
    {
     "name": "stdout",
     "output_type": "stream",
     "text": [
      "0.7872641388686947\n"
     ]
    }
   ],
   "source": [
    "from sklearn.metrics import roc_auc_score\n",
    "print(roc_auc_score(df[:train_len]['y'], df[:train_len]['y_mean_by_duration_log']))"
   ]
  },
  {
   "cell_type": "code",
   "execution_count": 372,
   "metadata": {},
   "outputs": [],
   "source": [
    "df['duration_inv'] = 1/(df['duration'] + 1)"
   ]
  },
  {
   "cell_type": "markdown",
   "metadata": {},
   "source": [
    "- campaign : 現キャンペーンにおける接触回数"
   ]
  },
  {
   "cell_type": "code",
   "execution_count": 373,
   "metadata": {},
   "outputs": [],
   "source": [
    "#df['campaign_cut'] = df['campaign'].where(df.campaign<5, 5)\n",
    "df['campaign_log'] = np.log(df['campaign'])"
   ]
  },
  {
   "cell_type": "markdown",
   "metadata": {},
   "source": [
    "- pdays : 経過日数：前キャンペーン接触後の日数"
   ]
  },
  {
   "cell_type": "markdown",
   "metadata": {},
   "source": [
    "pdays = -1は前回接触が無かった人  \n",
    "大きな数にした方が自然"
   ]
  },
  {
   "cell_type": "code",
   "execution_count": 374,
   "metadata": {
    "scrolled": true
   },
   "outputs": [
    {
     "data": {
      "text/plain": [
       "871"
      ]
     },
     "execution_count": 374,
     "metadata": {},
     "output_type": "execute_result"
    }
   ],
   "source": [
    "df['pdays'].max()"
   ]
  },
  {
   "cell_type": "code",
   "execution_count": 375,
   "metadata": {
    "scrolled": true
   },
   "outputs": [],
   "source": [
    "df['pdays'] = df['pdays'].where(df.pdays!=-1, 1000)"
   ]
  },
  {
   "cell_type": "code",
   "execution_count": 376,
   "metadata": {},
   "outputs": [],
   "source": [
    "#いったん1000は外してlog→正規分布\n",
    "df['pdays_nan'] = df['pdays'].where(df.pdays!=1000, np.nan)\n",
    "df['pdays_log_nan'] = np.log(df['pdays_nan'])\n",
    "df['pdays_log_std_nan'] = standardize_nan(df['pdays_log_nan'])"
   ]
  },
  {
   "cell_type": "markdown",
   "metadata": {},
   "source": [
    "- previous : 接触実績：現キャンペーン以前までに顧客に接触した回数"
   ]
  },
  {
   "cell_type": "code",
   "execution_count": 377,
   "metadata": {
    "scrolled": true
   },
   "outputs": [],
   "source": [
    "#初接触\n",
    "#df['first'] = df['previous'].where(df.previous==0, -1)\n",
    "#df['first'] = 1"
   ]
  },
  {
   "cell_type": "code",
   "execution_count": 378,
   "metadata": {},
   "outputs": [],
   "source": [
    "#いったん0は外してlog\n",
    "df['previous_nan'] = df['previous'].where(df.previous!=0, np.nan)\n",
    "df['previous_log_nan'] = np.log(df['previous_nan'])\n",
    "#df['previous_log'] = standardize_nan(df['previous_log'])"
   ]
  },
  {
   "cell_type": "code",
   "execution_count": 379,
   "metadata": {},
   "outputs": [],
   "source": [
    "#接触頻度\n",
    "#df['freq'] = np.log((df['campaign'] + df['previous']) / df['pdays'])\n",
    "df['freq'] = df['campaign'] + df['previous'] / df['pdays']"
   ]
  },
  {
   "cell_type": "markdown",
   "metadata": {},
   "source": [
    "### previous + campaign"
   ]
  },
  {
   "cell_type": "code",
   "execution_count": 380,
   "metadata": {},
   "outputs": [],
   "source": [
    "df['total_touch'] = df['previous'] + df['campaign']\n",
    "#df['contact_log'] = np.log(df['contact'])"
   ]
  },
  {
   "cell_type": "code",
   "execution_count": 381,
   "metadata": {},
   "outputs": [],
   "source": [
    "df['previous_date_nan'] = df['date'] - df['pdays_nan']"
   ]
  },
  {
   "cell_type": "code",
   "execution_count": null,
   "metadata": {},
   "outputs": [],
   "source": []
  },
  {
   "cell_type": "code",
   "execution_count": 382,
   "metadata": {},
   "outputs": [],
   "source": [
    "df['education_num'] = df['education'].map({'primary':1, 'secondary':2, 'tertiary':3, 'unknown':2})"
   ]
  },
  {
   "cell_type": "code",
   "execution_count": 383,
   "metadata": {
    "scrolled": true
   },
   "outputs": [],
   "source": [
    "df['education_num'] = df['education_num'].where(df['job']!='student', 4)"
   ]
  },
  {
   "cell_type": "markdown",
   "metadata": {},
   "source": [
    "プロット用に出力"
   ]
  },
  {
   "cell_type": "code",
   "execution_count": 384,
   "metadata": {},
   "outputs": [],
   "source": [
    "df.to_csv('./df_with_nan.csv', index=False)"
   ]
  },
  {
   "cell_type": "markdown",
   "metadata": {},
   "source": [
    "### nanを埋める"
   ]
  },
  {
   "cell_type": "code",
   "execution_count": 385,
   "metadata": {
    "scrolled": true
   },
   "outputs": [],
   "source": [
    "#負の遠方\n",
    "df['balance_p_log_std'] = df['balance_p_log_std_nan'].fillna(-10)\n",
    "df['balance_m_log_std'] = df['balance_m_log_std_nan'].fillna(-10)"
   ]
  },
  {
   "cell_type": "code",
   "execution_count": 386,
   "metadata": {},
   "outputs": [],
   "source": [
    "#正の遠方\n",
    "df['pdays_log_std'] = df['pdays_log_std_nan'].fillna(5)"
   ]
  },
  {
   "cell_type": "code",
   "execution_count": 387,
   "metadata": {},
   "outputs": [],
   "source": [
    "#負の後方\n",
    "df['previous_log'] = df['previous_log_nan'].fillna(-1)"
   ]
  },
  {
   "cell_type": "code",
   "execution_count": 388,
   "metadata": {},
   "outputs": [],
   "source": [
    "df['previous_date'] = df['previous_date_nan'].fillna(-1000)"
   ]
  },
  {
   "cell_type": "code",
   "execution_count": 389,
   "metadata": {},
   "outputs": [],
   "source": [
    "df.to_csv('./df_without_nan.csv', index=False)"
   ]
  },
  {
   "cell_type": "markdown",
   "metadata": {},
   "source": [
    "### データ選択"
   ]
  },
  {
   "cell_type": "code",
   "execution_count": 390,
   "metadata": {},
   "outputs": [
    {
     "data": {
      "text/plain": [
       "Index(['id', 'age', 'job', 'marital', 'education', 'default', 'balance',\n",
       "       'housing', 'loan', 'contact', 'day', 'month', 'duration', 'campaign',\n",
       "       'pdays', 'previous', 'poutcome', 'y', 'age_log', 'age_log_std',\n",
       "       'balance_p_nan', 'balance_m_nan', 'balance_p_log_nan',\n",
       "       'balance_m_log_nan', 'balance_p_log_std_nan', 'balance_m_log_std_nan',\n",
       "       'balance_sign', 'date', 'week', 'duration_log', 'duration_log_std',\n",
       "       'duration_log_std_cut', 'y_mean_by_duration_log', 'duration_inv',\n",
       "       'campaign_log', 'pdays_nan', 'pdays_log_nan', 'pdays_log_std_nan',\n",
       "       'previous_nan', 'previous_log_nan', 'freq', 'total_touch',\n",
       "       'previous_date_nan', 'education_num', 'balance_p_log_std',\n",
       "       'balance_m_log_std', 'pdays_log_std', 'previous_log', 'previous_date'],\n",
       "      dtype='object')"
      ]
     },
     "execution_count": 390,
     "metadata": {},
     "output_type": "execute_result"
    }
   ],
   "source": [
    "df.columns"
   ]
  },
  {
   "cell_type": "code",
   "execution_count": 391,
   "metadata": {
    "scrolled": true
   },
   "outputs": [],
   "source": [
    "ser_y = pd.Series(df.y)"
   ]
  },
  {
   "cell_type": "code",
   "execution_count": 392,
   "metadata": {
    "scrolled": true
   },
   "outputs": [],
   "source": [
    "df_num = df[['month',\n",
    "             'age_log_std',\n",
    "             'balance_sign', \n",
    "             'date',\n",
    "             'duration_log_std',\n",
    "             'duration_inv',\n",
    "             'campaign_log',\n",
    "             'freq',\n",
    "             'balance_p_log_std',\n",
    "             'balance_m_log_std',\n",
    "             #'pdays_inv',\n",
    "             'pdays',\n",
    "             'pdays_log_std',\n",
    "             'previous_log',\n",
    "             'total_touch',\n",
    "             'previous_date',\n",
    "             'week',\n",
    "             'education_num',\n",
    "             ]].copy()"
   ]
  },
  {
   "cell_type": "markdown",
   "metadata": {},
   "source": [
    "## 離散値"
   ]
  },
  {
   "cell_type": "markdown",
   "metadata": {},
   "source": [
    "- job - 職種\n",
    "- marital : 未婚/既婚\n",
    "- education : 教育水準\n",
    "- default : 債務不履行があるか yes/no\n",
    "- housing : 住宅ローン yes/no\n",
    "- loan : 個人ローン yes/no\n",
    "- contact : 連絡方法"
   ]
  },
  {
   "cell_type": "code",
   "execution_count": 406,
   "metadata": {},
   "outputs": [],
   "source": [
    "df_obj = df['y']"
   ]
  },
  {
   "cell_type": "code",
   "execution_count": 407,
   "metadata": {
    "scrolled": true
   },
   "outputs": [],
   "source": [
    "df_obj = add_dummies(df_obj, df.job)\n",
    "df_obj = add_dummies(df_obj, df.marital)\n",
    "df_obj = add_dummies(df_obj, df.education)\n",
    "df_obj = add_dummies(df_obj, df.month)"
   ]
  },
  {
   "cell_type": "code",
   "execution_count": 408,
   "metadata": {
    "scrolled": true
   },
   "outputs": [
    {
     "data": {
      "text/plain": [
       "Index(['y', 'job_admin.', 'job_blue-collar', 'job_entrepreneur',\n",
       "       'job_housemaid', 'job_management', 'job_retired', 'job_self-employed',\n",
       "       'job_services', 'job_student', 'job_technician', 'job_unemployed',\n",
       "       'marital_divorced', 'marital_married', 'marital_single',\n",
       "       'education_primary', 'education_secondary', 'education_tertiary',\n",
       "       'month_1', 'month_2', 'month_3', 'month_4', 'month_5', 'month_6',\n",
       "       'month_7', 'month_8', 'month_9', 'month_10', 'month_11', 'month_12'],\n",
       "      dtype='object')"
      ]
     },
     "execution_count": 408,
     "metadata": {},
     "output_type": "execute_result"
    }
   ],
   "source": [
    "df_obj.columns"
   ]
  },
  {
   "cell_type": "code",
   "execution_count": 409,
   "metadata": {},
   "outputs": [],
   "source": [
    "df_obj = add_yn_map(df_obj, df.default)\n",
    "df_obj = add_yn_map(df_obj, df.housing)\n",
    "df_obj = add_yn_map(df_obj, df.loan)"
   ]
  },
  {
   "cell_type": "code",
   "execution_count": 410,
   "metadata": {
    "scrolled": false
   },
   "outputs": [
    {
     "data": {
      "text/plain": [
       "Index(['y', 'job_admin.', 'job_blue-collar', 'job_entrepreneur',\n",
       "       'job_housemaid', 'job_management', 'job_retired', 'job_self-employed',\n",
       "       'job_services', 'job_student', 'job_technician', 'job_unemployed',\n",
       "       'marital_divorced', 'marital_married', 'marital_single',\n",
       "       'education_primary', 'education_secondary', 'education_tertiary',\n",
       "       'month_1', 'month_2', 'month_3', 'month_4', 'month_5', 'month_6',\n",
       "       'month_7', 'month_8', 'month_9', 'month_10', 'month_11', 'month_12',\n",
       "       'default', 'housing', 'loan'],\n",
       "      dtype='object')"
      ]
     },
     "execution_count": 410,
     "metadata": {},
     "output_type": "execute_result"
    }
   ],
   "source": [
    "df_obj.columns"
   ]
  },
  {
   "cell_type": "markdown",
   "metadata": {},
   "source": [
    "unknownに有意な差"
   ]
  },
  {
   "cell_type": "code",
   "execution_count": 411,
   "metadata": {},
   "outputs": [],
   "source": [
    "df_obj = add_dummies(df_obj, df.contact, drop_unknown=False)"
   ]
  },
  {
   "cell_type": "code",
   "execution_count": 412,
   "metadata": {},
   "outputs": [],
   "source": [
    "#df_obj = add_dummies(df_obj, df.month)"
   ]
  },
  {
   "cell_type": "code",
   "execution_count": 413,
   "metadata": {
    "scrolled": true
   },
   "outputs": [
    {
     "data": {
      "text/plain": [
       "Index(['y', 'job_admin.', 'job_blue-collar', 'job_entrepreneur',\n",
       "       'job_housemaid', 'job_management', 'job_retired', 'job_self-employed',\n",
       "       'job_services', 'job_student', 'job_technician', 'job_unemployed',\n",
       "       'marital_divorced', 'marital_married', 'marital_single',\n",
       "       'education_primary', 'education_secondary', 'education_tertiary',\n",
       "       'month_1', 'month_2', 'month_3', 'month_4', 'month_5', 'month_6',\n",
       "       'month_7', 'month_8', 'month_9', 'month_10', 'month_11', 'month_12',\n",
       "       'default', 'housing', 'loan', 'contact_cellular', 'contact_telephone',\n",
       "       'contact_unknown'],\n",
       "      dtype='object')"
      ]
     },
     "execution_count": 413,
     "metadata": {},
     "output_type": "execute_result"
    }
   ],
   "source": [
    "df_obj.columns"
   ]
  },
  {
   "cell_type": "markdown",
   "metadata": {},
   "source": [
    "- poutcome : 前回のキャンペーンの成果"
   ]
  },
  {
   "cell_type": "code",
   "execution_count": 414,
   "metadata": {},
   "outputs": [],
   "source": [
    "df_obj = add_dummies(df_obj, df.poutcome)"
   ]
  },
  {
   "cell_type": "raw",
   "metadata": {},
   "source": [
    "df_obj['duration_bin'] = pd.cut(df_obj.duration_log, bins=8)"
   ]
  },
  {
   "cell_type": "raw",
   "metadata": {},
   "source": [
    "y_map = df_obj.groupby('duration_bin').y.mean()"
   ]
  },
  {
   "cell_type": "raw",
   "metadata": {},
   "source": [
    "df_obj['duration_bin'] = df_obj['duration_bin'].map(y_map)"
   ]
  },
  {
   "cell_type": "raw",
   "metadata": {},
   "source": [
    "df_obj['duration_bin'] = (df_obj['duration_bin']*100).astype(int)"
   ]
  },
  {
   "cell_type": "code",
   "execution_count": 415,
   "metadata": {
    "scrolled": true
   },
   "outputs": [
    {
     "data": {
      "text/plain": [
       "Index(['job_admin.', 'job_blue-collar', 'job_entrepreneur', 'job_housemaid',\n",
       "       'job_management', 'job_retired', 'job_self-employed', 'job_services',\n",
       "       'job_student', 'job_technician', 'job_unemployed', 'marital_divorced',\n",
       "       'marital_married', 'marital_single', 'education_primary',\n",
       "       'education_secondary', 'education_tertiary', 'month_1', 'month_2',\n",
       "       'month_3', 'month_4', 'month_5', 'month_6', 'month_7', 'month_8',\n",
       "       'month_9', 'month_10', 'month_11', 'month_12', 'default', 'housing',\n",
       "       'loan', 'contact_cellular', 'contact_telephone', 'contact_unknown',\n",
       "       'poutcome_failure', 'poutcome_other', 'poutcome_success'],\n",
       "      dtype='object')"
      ]
     },
     "execution_count": 415,
     "metadata": {},
     "output_type": "execute_result"
    }
   ],
   "source": [
    "df_obj.drop(['y'], axis=1, inplace=True)\n",
    "df_obj.columns"
   ]
  },
  {
   "cell_type": "code",
   "execution_count": 416,
   "metadata": {},
   "outputs": [],
   "source": [
    "#df_obj = df_obj[['job_retired', 'job_student', 'housing', 'loan', 'contact_unknown', 'poutcome_success']]"
   ]
  },
  {
   "cell_type": "markdown",
   "metadata": {},
   "source": [
    "## 出力"
   ]
  },
  {
   "cell_type": "code",
   "execution_count": 417,
   "metadata": {
    "scrolled": true
   },
   "outputs": [],
   "source": [
    "df_new = pd.concat([df_num, df_obj, ser_y], axis=1, sort=False)"
   ]
  },
  {
   "cell_type": "code",
   "execution_count": 418,
   "metadata": {},
   "outputs": [],
   "source": [
    "df_new[:train_len].to_csv('df_train_for_fit.csv', index=False)\n",
    "df_new[train_len:].to_csv('df_test_for_fit.csv', index=False)"
   ]
  },
  {
   "cell_type": "code",
   "execution_count": null,
   "metadata": {},
   "outputs": [],
   "source": []
  }
 ],
 "metadata": {
  "kernelspec": {
   "display_name": "Python 3",
   "language": "python",
   "name": "python3"
  },
  "language_info": {
   "codemirror_mode": {
    "name": "ipython",
    "version": 3
   },
   "file_extension": ".py",
   "mimetype": "text/x-python",
   "name": "python",
   "nbconvert_exporter": "python",
   "pygments_lexer": "ipython3",
   "version": "3.6.5"
  }
 },
 "nbformat": 4,
 "nbformat_minor": 2
}
