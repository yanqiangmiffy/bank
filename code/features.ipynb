{
 "cells": [
  {
   "cell_type": "code",
   "execution_count": 1,
   "metadata": {
    "scrolled": true
   },
   "outputs": [],
   "source": [
    "import numpy as np\n",
    "import pandas as pd\n",
    "import seaborn as sns\n",
    "import matplotlib.pyplot as plt\n",
    "\n",
    "pd.set_option('max_columns', 100)\n",
    "%matplotlib inline"
   ]
  },
  {
   "cell_type": "markdown",
   "metadata": {},
   "source": [
    "## 関数の定義"
   ]
  },
  {
   "cell_type": "code",
   "execution_count": 2,
   "metadata": {},
   "outputs": [],
   "source": [
    "# nanを含む系列を規格化\n",
    "def standardize_nan(x):\n",
    "    x_mean = np.nanmean(x)\n",
    "    x_std = np.nanstd(x)\n",
    "    return (x - x_mean) / x_std"
   ]
  },
  {
   "cell_type": "code",
   "execution_count": 3,
   "metadata": {},
   "outputs": [],
   "source": [
    "# sourceからダミー変数を作ってobjに追加\n",
    "#\n",
    "# obj : df.DataFrame\n",
    "# source : df.Series、ダミー変数化したい系列\n",
    "# drop_unknown : ダミー変数化したとき\"unknown\"を外すか\n",
    "def add_dummies(obj, source, drop_unknown=True):\n",
    "    tmp = obj.copy()\n",
    "    col_name = source.name\n",
    "    dummies = pd.get_dummies(source, prefix=col_name)\n",
    "    name_unknown = col_name + '_unknown'\n",
    "    if drop_unknown == True:\n",
    "        if name_unknown in dummies.columns:\n",
    "            dummies.drop([name_unknown], axis=1, inplace=True)\n",
    "    return pd.concat([tmp, dummies], axis=1, sort=False)"
   ]
  },
  {
   "cell_type": "code",
   "execution_count": 4,
   "metadata": {},
   "outputs": [],
   "source": [
    "# yes/no の系列(source)をマッピングしてobjに追加\n",
    "def add_yn_map(obj, source):\n",
    "    yn = source.map({'yes':1, 'no':0})\n",
    "    return pd.concat([obj, yn], axis=1, sort=False)"
   ]
  },
  {
   "cell_type": "markdown",
   "metadata": {},
   "source": [
    "## データ読み込み"
   ]
  },
  {
   "cell_type": "code",
   "execution_count": 5,
   "metadata": {},
   "outputs": [],
   "source": [
    "# 元データ\n",
    "df_train_raw = pd.read_csv('../input/train.csv')\n",
    "df_test_raw = pd.read_csv('../input/test.csv')\n",
    "# 編集用にコピー\n",
    "df_train = df_train_raw.copy()\n",
    "df_test = df_test_raw.copy()\n",
    "# trainデータの長さを保存\n",
    "train_len = len(df_train)"
   ]
  },
  {
   "cell_type": "markdown",
   "metadata": {},
   "source": [
    "## 外れ値削除"
   ]
  },
  {
   "cell_type": "code",
   "execution_count": 6,
   "metadata": {},
   "outputs": [],
   "source": [
    "# 外れ値の行を取り出す\n",
    "outliers = df_train[df_train.balance>80000]\n",
    "outliers = pd.concat([outliers, df_train[df_train.duration>4000]], axis=0)\n",
    "outliers = pd.concat([outliers, df_train[df_train.previous>100]], axis=0)\n",
    "\n",
    "# outliers にある行を df_train から削除\n",
    "df_train = df_train.drop(outliers.index, axis=0)\n",
    "# trainデータの長さを保存\n",
    "train_len = len(df_train)"
   ]
  },
  {
   "cell_type": "markdown",
   "metadata": {},
   "source": [
    "df_train.to_csv('./trian_without_outliers.csv', index=False)"
   ]
  },
  {
   "cell_type": "markdown",
   "metadata": {},
   "source": [
    "## データ整形"
   ]
  },
  {
   "cell_type": "code",
   "execution_count": 7,
   "metadata": {},
   "outputs": [],
   "source": [
    "# まとめて処理するために df_train, df_test を結合\n",
    "df = pd.concat([df_train, df_test], axis=0, ignore_index=True, sort=False) # indexは振り直される\n",
    "#df_new = pd.DataFrame(df['y']).copy()"
   ]
  },
  {
   "cell_type": "markdown",
   "metadata": {},
   "source": [
    "### 連続値のデータ整形"
   ]
  },
  {
   "cell_type": "markdown",
   "metadata": {},
   "source": [
    "- age : 年齢"
   ]
  },
  {
   "cell_type": "code",
   "execution_count": 8,
   "metadata": {},
   "outputs": [],
   "source": [
    "df['age_log'] = np.log(df.age)\n",
    "df['age_log_std'] = standardize_nan(df['age_log'])"
   ]
  },
  {
   "cell_type": "markdown",
   "metadata": {},
   "source": [
    "- balance : 年間平均残高"
   ]
  },
  {
   "cell_type": "code",
   "execution_count": 9,
   "metadata": {},
   "outputs": [],
   "source": [
    "# balanceをプラスのみ、マイナスのみに分離(nanを含む)\n",
    "df['balance_p_nan'] = df['balance'].where(df.balance>0, np.nan)\n",
    "df['balance_m_nan'] = df['balance'].where(df.balance<0, np.nan)\n",
    "# それぞれ log をとる\n",
    "df['balance_p_log_nan'] = np.log(df['balance_p_nan'])\n",
    "df['balance_m_log_nan'] = np.log(-df['balance_m_nan'])\n",
    "# とりあえずnanを含んだまま正規化\n",
    "df['balance_p_log_std_nan'] = standardize_nan(df['balance_p_log_nan'])\n",
    "df['balance_m_log_std_nan'] = standardize_nan(df['balance_m_log_nan'])\n",
    "\n",
    "# balanceの符号ごとにマッピング(-1, 0, +1)\n",
    "df['balance_sign'] = np.sign(df['balance'])"
   ]
  },
  {
   "cell_type": "markdown",
   "metadata": {},
   "source": [
    "- day : 最終接触日  \n",
    "外す"
   ]
  },
  {
   "cell_type": "markdown",
   "metadata": {},
   "source": [
    "- month : 最終接触月"
   ]
  },
  {
   "cell_type": "code",
   "execution_count": 10,
   "metadata": {
    "scrolled": false
   },
   "outputs": [],
   "source": [
    "# 月を数字に直す\n",
    "df['month'] = df['month'].map({'jan':1,\n",
    "                       'feb':2,\n",
    "                       'mar':3,\n",
    "                       'apr':4,\n",
    "                       'may':5,\n",
    "                       'jun':6,\n",
    "                       'jul':7,\n",
    "                       'aug':8,\n",
    "                       'sep':9,\n",
    "                       'oct':10,\n",
    "                       'nov':11,\n",
    "                       'dec':12\n",
    "                      }).astype(int)"
   ]
  },
  {
   "cell_type": "code",
   "execution_count": 11,
   "metadata": {
    "scrolled": true
   },
   "outputs": [],
   "source": [
    "# 1月1日→1、12月31日→365 になるように日付をつける\n",
    "\n",
    "#1月:0、2月:31、3月:(31+28)、4月:(31+28+31)、 ...\n",
    "day_sum = pd.Series(np.cumsum([0, 31, 28, 31, 30, 31, 30, 31, 31, 30, 31, 30]),index=np.arange(1,13))\n",
    "df['date'] = (df['month'].map(day_sum) + df['day']).astype(int)"
   ]
  },
  {
   "cell_type": "code",
   "execution_count": 12,
   "metadata": {},
   "outputs": [],
   "source": [
    "# 曜日ごとに分離\n",
    "df['week'] = df['date'] % 7"
   ]
  },
  {
   "cell_type": "markdown",
   "metadata": {},
   "source": [
    "- duration : 最終接触時間（秒）"
   ]
  },
  {
   "cell_type": "code",
   "execution_count": 13,
   "metadata": {},
   "outputs": [],
   "source": [
    "# logをとって正規化\n",
    "df['duration_log'] = np.log1p(df['duration'])\n",
    "df['duration_log_std'] = standardize_nan(df['duration_log'])\n",
    "# (1を足したものの)逆数\n",
    "df['duration_inv'] = 1/(df['duration'] + 1)"
   ]
  },
  {
   "cell_type": "markdown",
   "metadata": {},
   "source": [
    "- campaign : 現キャンペーンにおける接触回数"
   ]
  },
  {
   "cell_type": "code",
   "execution_count": 14,
   "metadata": {},
   "outputs": [],
   "source": [
    "df['campaign_log'] = np.log(df['campaign'])"
   ]
  },
  {
   "cell_type": "markdown",
   "metadata": {},
   "source": [
    "- pdays : 経過日数：前キャンペーン接触後の日数"
   ]
  },
  {
   "cell_type": "code",
   "execution_count": 33,
   "metadata": {},
   "outputs": [],
   "source": [
    "df['pdays_2'] = df['pdays'].where((df.pdays<100), 1)\n",
    "df['pdays_2'] = df['pdays_2'].where((df.pdays<0) | (df.pdays>=100), 0)"
   ]
  },
  {
   "cell_type": "code",
   "execution_count": 36,
   "metadata": {
    "scrolled": true
   },
   "outputs": [],
   "source": [
    "# pdays = -1は前回接触が無かった人  \n",
    "# 大きな数にした方が自然。最大値より大きい1000にする\n",
    "df['pdays'] = df['pdays'].where(df.pdays!=-1, 1000)\n",
    "\n",
    "#いったん1000は外してlog→正規化\n",
    "df['pdays_nan'] = df['pdays'].where(df.pdays!=1000, np.nan)\n",
    "df['pdays_log_nan'] = np.log(df['pdays_nan'])\n",
    "df['pdays_log_std_nan'] = standardize_nan(df['pdays_log_nan'])"
   ]
  },
  {
   "cell_type": "markdown",
   "metadata": {},
   "source": [
    "- previous : 接触実績：現キャンペーン以前までに顧客に接触した回数"
   ]
  },
  {
   "cell_type": "code",
   "execution_count": 37,
   "metadata": {},
   "outputs": [],
   "source": [
    "# 0を外してlogとる\n",
    "df['previous_nan'] = df['previous'].where(df.previous!=0, np.nan)\n",
    "df['previous_log_nan'] = np.log(df['previous_nan'])"
   ]
  },
  {
   "cell_type": "markdown",
   "metadata": {},
   "source": [
    "* その他、新しい量"
   ]
  },
  {
   "cell_type": "code",
   "execution_count": 38,
   "metadata": {},
   "outputs": [],
   "source": [
    "# 総接触回数\n",
    "df['total_touch'] = df['previous'] + df['campaign']"
   ]
  },
  {
   "cell_type": "code",
   "execution_count": 39,
   "metadata": {},
   "outputs": [],
   "source": [
    "df['total_touch_log'] = np.log(df['total_touch'])"
   ]
  },
  {
   "cell_type": "code",
   "execution_count": 40,
   "metadata": {},
   "outputs": [],
   "source": [
    "#接触頻度っぽい量？\n",
    "df['freq'] = df['total_touch'] / df['pdays']"
   ]
  },
  {
   "cell_type": "code",
   "execution_count": 41,
   "metadata": {},
   "outputs": [],
   "source": [
    "# 前回接触した日付(この段階ではnanを含む)\n",
    "df['previous_date_nan'] = df['date'] - df['pdays_nan']"
   ]
  },
  {
   "cell_type": "code",
   "execution_count": 42,
   "metadata": {},
   "outputs": [],
   "source": [
    "# educationを数値化(1〜4)\n",
    "df['education_num'] = df['education'].map({'primary':1, 'secondary':2, 'tertiary':3, 'unknown':2})\n",
    "# 現在学生なら 4\n",
    "#df['education_num'] = df['education_num'].where(df['job']!='student', 4)"
   ]
  },
  {
   "cell_type": "code",
   "execution_count": 43,
   "metadata": {},
   "outputs": [],
   "source": [
    "df.to_csv('./df_with_nan.csv', index=False)"
   ]
  },
  {
   "cell_type": "markdown",
   "metadata": {},
   "source": [
    "### 適当にnanを埋める"
   ]
  },
  {
   "cell_type": "code",
   "execution_count": 44,
   "metadata": {
    "scrolled": true
   },
   "outputs": [],
   "source": [
    "df['balance_p_log_std'] = df['balance_p_log_std_nan'].fillna(-10)# 負の遠方\n",
    "df['balance_m_log_std'] = df['balance_m_log_std_nan'].fillna(-10)# 負の遠方\n",
    "df['pdays_log_std'] = df['pdays_log_std_nan'].fillna(5)# 正の遠方\n",
    "df['previous_log'] = df['previous_log_nan'].fillna(-1)# 負の後方\n",
    "df['previous_date'] = df['previous_date_nan'].fillna(-1000)# 負の遠方"
   ]
  },
  {
   "cell_type": "code",
   "execution_count": 45,
   "metadata": {},
   "outputs": [],
   "source": [
    "df.to_csv('./df_without_nan.csv', index=False)"
   ]
  },
  {
   "cell_type": "markdown",
   "metadata": {},
   "source": [
    "### データ選択"
   ]
  },
  {
   "cell_type": "code",
   "execution_count": 47,
   "metadata": {
    "scrolled": true
   },
   "outputs": [],
   "source": [
    "# 使うデータ(連続値)を選択して df_numにまとめる\n",
    "df_num = df[['month', # 最終接触月(1〜12)\n",
    "             'date', # 最終接触日? (1〜365)\n",
    "             'week', # dateの週\n",
    "             'age_log_std', # ageのlog→正規化\n",
    "             'duration_log_std', # durationのlog→正規化\n",
    "             'duration_inv', # durationの逆数\n",
    "             'campaign_log', \n",
    "             'balance_p_log_std',\n",
    "             'balance_m_log_std',\n",
    "             'balance_sign', \n",
    "             'pdays',\n",
    "             'pdays_2',\n",
    "             'pdays_log_std',\n",
    "             'previous_date', # 前回の接触日\n",
    "             'previous_log',\n",
    "             'total_touch', # 前回と今回の接触回数\n",
    "             'freq', # 接触頻度?\n",
    "             'education_num',\n",
    "             ]].copy()"
   ]
  },
  {
   "cell_type": "markdown",
   "metadata": {},
   "source": [
    "## 離散値"
   ]
  },
  {
   "cell_type": "markdown",
   "metadata": {},
   "source": [
    "- job - 職種\n",
    "- marital : 未婚/既婚\n",
    "- education : 教育水準\n",
    "- default : 債務不履行があるか yes/no\n",
    "- housing : 住宅ローン yes/no\n",
    "- loan : 個人ローン yes/no\n",
    "- poutcome : 前回のキャンペーンの成果\n",
    "- contact : 連絡方法"
   ]
  },
  {
   "cell_type": "code",
   "execution_count": 48,
   "metadata": {},
   "outputs": [],
   "source": [
    "# df_objにまとめていく↓\n",
    "df_obj = df['y']\n",
    "# ダミー変数化\n",
    "df_obj = add_dummies(df_obj, df.job)\n",
    "df_obj = add_dummies(df_obj, df.marital)\n",
    "df_obj = add_dummies(df_obj, df.education)\n",
    "df_obj = add_dummies(df_obj, df.month)\n",
    "df_obj = add_dummies(df_obj, df.poutcome)\n",
    "df_obj = add_dummies(df_obj, df.contact, drop_unknown=False) # contactではunknownに有意な差\n",
    "# yes/noをマッピング\n",
    "df_obj = add_yn_map(df_obj, df.default)\n",
    "df_obj = add_yn_map(df_obj, df.housing)\n",
    "df_obj = add_yn_map(df_obj, df.loan)"
   ]
  },
  {
   "cell_type": "code",
   "execution_count": 49,
   "metadata": {
    "scrolled": false
   },
   "outputs": [],
   "source": [
    "df_obj.drop(['y'], axis=1, inplace=True)"
   ]
  },
  {
   "cell_type": "markdown",
   "metadata": {},
   "source": [
    "## csvに出力"
   ]
  },
  {
   "cell_type": "code",
   "execution_count": 50,
   "metadata": {
    "scrolled": true
   },
   "outputs": [],
   "source": [
    "ser_y = pd.Series(df.y) # yの系列\n",
    "# df_num、df_obj と y をまとめる\n",
    "df_new = pd.concat([df_num, df_obj, ser_y], axis=1, sort=False)\n",
    "df_new[:train_len].to_csv('df_train_for_fit.csv', index=False)\n",
    "df_new[train_len:].to_csv('df_test_for_fit.csv', index=False)"
   ]
  },
  {
   "cell_type": "code",
   "execution_count": 51,
   "metadata": {
    "scrolled": true
   },
   "outputs": [],
   "source": [
    "df_new[:train_len].to_csv('X.csv', index=False)\n",
    "df_new[train_len:].to_csv('test_X.csv', index=False)"
   ]
  },
  {
   "cell_type": "code",
   "execution_count": 52,
   "metadata": {
    "scrolled": true
   },
   "outputs": [
    {
     "data": {
      "text/plain": [
       "Index(['month', 'date', 'week', 'age_log_std', 'duration_log_std',\n",
       "       'duration_inv', 'campaign_log', 'balance_p_log_std',\n",
       "       'balance_m_log_std', 'balance_sign', 'pdays', 'pdays_2',\n",
       "       'pdays_log_std', 'previous_date', 'previous_log', 'total_touch', 'freq',\n",
       "       'education_num', 'job_admin.', 'job_blue-collar', 'job_entrepreneur',\n",
       "       'job_housemaid', 'job_management', 'job_retired', 'job_self-employed',\n",
       "       'job_services', 'job_student', 'job_technician', 'job_unemployed',\n",
       "       'marital_divorced', 'marital_married', 'marital_single',\n",
       "       'education_primary', 'education_secondary', 'education_tertiary',\n",
       "       'month_1', 'month_2', 'month_3', 'month_4', 'month_5', 'month_6',\n",
       "       'month_7', 'month_8', 'month_9', 'month_10', 'month_11', 'month_12',\n",
       "       'poutcome_failure', 'poutcome_other', 'poutcome_success',\n",
       "       'contact_cellular', 'contact_telephone', 'contact_unknown', 'default',\n",
       "       'housing', 'loan', 'y'],\n",
       "      dtype='object')"
      ]
     },
     "execution_count": 52,
     "metadata": {},
     "output_type": "execute_result"
    }
   ],
   "source": [
    "df_new.columns"
   ]
  },
  {
   "cell_type": "code",
   "execution_count": null,
   "metadata": {},
   "outputs": [],
   "source": []
  }
 ],
 "metadata": {
  "kernelspec": {
   "display_name": "Python 3",
   "language": "python",
   "name": "python3"
  },
  "language_info": {
   "codemirror_mode": {
    "name": "ipython",
    "version": 3
   },
   "file_extension": ".py",
   "mimetype": "text/x-python",
   "name": "python",
   "nbconvert_exporter": "python",
   "pygments_lexer": "ipython3",
   "version": "3.6.5"
  }
 },
 "nbformat": 4,
 "nbformat_minor": 2
}
