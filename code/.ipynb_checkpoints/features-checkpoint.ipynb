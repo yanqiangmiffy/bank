{
 "cells": [
  {
   "cell_type": "code",
   "execution_count": 213,
   "metadata": {
    "scrolled": true
   },
   "outputs": [],
   "source": [
    "import numpy as np\n",
    "import pandas as pd\n",
    "import seaborn as sns\n",
    "import matplotlib.pyplot as plt\n",
    "\n",
    "pd.set_option('max_columns', 100)\n",
    "%matplotlib inline"
   ]
  },
  {
   "cell_type": "code",
   "execution_count": 214,
   "metadata": {},
   "outputs": [],
   "source": [
    "from sklearn.preprocessing import StandardScaler\n",
    "ss = StandardScaler()"
   ]
  },
  {
   "cell_type": "code",
   "execution_count": 215,
   "metadata": {},
   "outputs": [],
   "source": [
    "def standardize_nan(x):\n",
    "    x_mean = np.nanmean(x)\n",
    "    x_std = np.nanstd(x)\n",
    "    return (x - x_mean) / x_std"
   ]
  },
  {
   "cell_type": "code",
   "execution_count": 216,
   "metadata": {},
   "outputs": [],
   "source": [
    "def add_dummies(obj, source, drop_unknown=True):\n",
    "    col_name = source.name\n",
    "    dummies = pd.get_dummies(source, prefix=col_name)\n",
    "    name_unknown = col_name + '_unknown'\n",
    "    if drop_unknown == True:\n",
    "        if name_unknown in dummies.columns:\n",
    "            dummies.drop([name_unknown], axis=1, inplace=True)\n",
    "    return pd.concat([obj, dummies], axis=1, sort=False)"
   ]
  },
  {
   "cell_type": "code",
   "execution_count": 217,
   "metadata": {},
   "outputs": [],
   "source": [
    "def add_yn_map(obj, source):\n",
    "    yn = source.map({'yes':1, 'no':0})\n",
    "    return pd.concat([obj, yn], axis=1, sort=False)"
   ]
  },
  {
   "cell_type": "code",
   "execution_count": 218,
   "metadata": {},
   "outputs": [],
   "source": [
    "df_train_raw = pd.read_csv('../input/train.csv')\n",
    "df_test_raw = pd.read_csv('../input/test.csv')\n",
    "df_train = df_train_raw.copy()\n",
    "df_test = df_test_raw.copy()\n",
    "train_len = len(df_train)"
   ]
  },
  {
   "cell_type": "markdown",
   "metadata": {},
   "source": [
    "## 外れ値"
   ]
  },
  {
   "cell_type": "code",
   "execution_count": 219,
   "metadata": {},
   "outputs": [],
   "source": [
    "outliers = df_train[df_train.balance>80000]\n",
    "outliers = pd.concat([outliers, df_train[df_train.duration>4000]], axis=0)\n",
    "outliers = pd.concat([outliers, df_train[df_train.previous>100]], axis=0)\n",
    "df_train = df_train.drop(outliers.index, axis=0)"
   ]
  },
  {
   "cell_type": "code",
   "execution_count": 220,
   "metadata": {},
   "outputs": [],
   "source": [
    "df_train.to_csv('./trian_without_outliers.csv', index=False)"
   ]
  },
  {
   "cell_type": "markdown",
   "metadata": {},
   "source": [
    "# データ整形"
   ]
  },
  {
   "cell_type": "markdown",
   "metadata": {},
   "source": [
    "dfではindexは振り直される"
   ]
  },
  {
   "cell_type": "code",
   "execution_count": 221,
   "metadata": {},
   "outputs": [],
   "source": [
    "train_len = len(df_train)\n",
    "df = pd.concat([df_train, df_test], axis=0, ignore_index=True, sort=False)\n",
    "#df_new = pd.DataFrame(df['y']).copy()"
   ]
  },
  {
   "cell_type": "markdown",
   "metadata": {},
   "source": [
    "## 連続値"
   ]
  },
  {
   "cell_type": "markdown",
   "metadata": {},
   "source": [
    "- age : 年齢"
   ]
  },
  {
   "cell_type": "code",
   "execution_count": 222,
   "metadata": {},
   "outputs": [],
   "source": [
    "df['age_log'] = np.log(df.age)\n",
    "df['age_log_std'] = standardize_nan(df['age_log'])"
   ]
  },
  {
   "cell_type": "markdown",
   "metadata": {},
   "source": [
    "- balance : 年間平均残高"
   ]
  },
  {
   "cell_type": "code",
   "execution_count": 223,
   "metadata": {},
   "outputs": [],
   "source": [
    "df['balance_p_nan'] = df['balance'].where(df.balance>0, np.nan)\n",
    "df['balance_m_nan'] = df['balance'].where(df.balance<0, np.nan)\n",
    "\n",
    "df['balance_p_log_nan'] = np.log(df['balance_p_nan'])\n",
    "df['balance_m_log_nan'] = np.log(-df['balance_m_nan'])\n",
    "\n",
    "df['balance_p_log_std_nan'] = standardize_nan(df['balance_p_log_nan'])\n",
    "df['balance_m_log_std_nan'] = standardize_nan(df['balance_m_log_nan'])"
   ]
  },
  {
   "cell_type": "code",
   "execution_count": 224,
   "metadata": {
    "scrolled": true
   },
   "outputs": [],
   "source": [
    "df['balance_sign'] = np.sign(df['balance'])"
   ]
  },
  {
   "cell_type": "markdown",
   "metadata": {},
   "source": [
    "- day : 最終接触日  \n",
    "外す"
   ]
  },
  {
   "cell_type": "markdown",
   "metadata": {},
   "source": [
    "- month : 最終接触月"
   ]
  },
  {
   "cell_type": "code",
   "execution_count": 225,
   "metadata": {
    "scrolled": false
   },
   "outputs": [],
   "source": [
    "df['month'] = df['month'].map({'jan':1,\n",
    "                       'feb':2,\n",
    "                       'mar':3,\n",
    "                       'apr':4,\n",
    "                       'may':5,\n",
    "                       'jun':6,\n",
    "                       'jul':7,\n",
    "                       'aug':8,\n",
    "                       'sep':9,\n",
    "                       'oct':10,\n",
    "                       'nov':11,\n",
    "                       'dec':12\n",
    "                      }).astype(int)"
   ]
  },
  {
   "cell_type": "code",
   "execution_count": 226,
   "metadata": {},
   "outputs": [],
   "source": [
    "df['day_total'] = df['month'] * 31 + df['day']"
   ]
  },
  {
   "cell_type": "markdown",
   "metadata": {},
   "source": [
    "- duration : 最終接触時間（秒）"
   ]
  },
  {
   "cell_type": "code",
   "execution_count": 227,
   "metadata": {},
   "outputs": [],
   "source": [
    "df['duration_log'] = np.log1p(df['duration'])\n",
    "df['duration_log_std'] = standardize_nan(df['duration_log'])"
   ]
  },
  {
   "cell_type": "code",
   "execution_count": 228,
   "metadata": {},
   "outputs": [],
   "source": [
    "df['duration_inv'] = 1/(df['duration'] + 1)"
   ]
  },
  {
   "cell_type": "markdown",
   "metadata": {},
   "source": [
    "- campaign : 現キャンペーンにおける接触回数"
   ]
  },
  {
   "cell_type": "code",
   "execution_count": 229,
   "metadata": {},
   "outputs": [],
   "source": [
    "#df['campaign_cut'] = df['campaign'].where(df.campaign<5, 5)\n",
    "df['campaign_log'] = np.log(df['campaign'])"
   ]
  },
  {
   "cell_type": "markdown",
   "metadata": {},
   "source": [
    "- pdays : 経過日数：前キャンペーン接触後の日数"
   ]
  },
  {
   "cell_type": "markdown",
   "metadata": {},
   "source": [
    "pdays = -1は前回接触が無かった人  \n",
    "大きな数にした方が自然"
   ]
  },
  {
   "cell_type": "code",
   "execution_count": 230,
   "metadata": {
    "scrolled": true
   },
   "outputs": [
    {
     "data": {
      "text/plain": [
       "871"
      ]
     },
     "execution_count": 230,
     "metadata": {},
     "output_type": "execute_result"
    }
   ],
   "source": [
    "df['pdays'].max()"
   ]
  },
  {
   "cell_type": "code",
   "execution_count": 231,
   "metadata": {
    "scrolled": true
   },
   "outputs": [],
   "source": [
    "df['pdays'] = df['pdays'].where(df.pdays!=-1, 1000)"
   ]
  },
  {
   "cell_type": "code",
   "execution_count": 232,
   "metadata": {},
   "outputs": [],
   "source": [
    "#いったん1000は外してlog→正規分布\n",
    "df['pdays_nan'] = df['pdays'].where(df.pdays!=1000, np.nan)\n",
    "df['pdays_log_nan'] = np.log(df['pdays_nan'])\n",
    "df['pdays_log_std_nan'] = standardize_nan(df['pdays_log_nan'])"
   ]
  },
  {
   "cell_type": "markdown",
   "metadata": {},
   "source": [
    "- previous : 接触実績：現キャンペーン以前までに顧客に接触した回数"
   ]
  },
  {
   "cell_type": "code",
   "execution_count": 233,
   "metadata": {
    "scrolled": true
   },
   "outputs": [],
   "source": [
    "#初接触\n",
    "#df['first'] = df['previous'].where(df.previous==0, -1)\n",
    "#df['first'] = 1"
   ]
  },
  {
   "cell_type": "code",
   "execution_count": 234,
   "metadata": {},
   "outputs": [],
   "source": [
    "#いったん0は外してlog\n",
    "df['previous_nan'] = df['previous'].where(df.previous!=0, np.nan)\n",
    "df['previous_log_nan'] = np.log(df['previous_nan'])\n",
    "#df['previous_log'] = standardize_nan(df['previous_log'])"
   ]
  },
  {
   "cell_type": "code",
   "execution_count": 235,
   "metadata": {},
   "outputs": [],
   "source": [
    "#接触頻度\n",
    "#df['freq'] = np.log((df['campaign'] + df['previous']) / df['pdays'])\n",
    "df['freq'] = df['campaign'] + df['previous'] / df['pdays']"
   ]
  },
  {
   "cell_type": "markdown",
   "metadata": {},
   "source": [
    "### previous + campaign"
   ]
  },
  {
   "cell_type": "code",
   "execution_count": 236,
   "metadata": {},
   "outputs": [],
   "source": [
    "df['total_touch'] = df['previous'] + df['campaign']\n",
    "#df['contact_log'] = np.log(df['contact'])"
   ]
  },
  {
   "cell_type": "code",
   "execution_count": 237,
   "metadata": {},
   "outputs": [],
   "source": [
    "df['day_total_minus_pdays'] = df['day_total'] - df['pdays']"
   ]
  },
  {
   "cell_type": "markdown",
   "metadata": {},
   "source": [
    "プロット用に出力"
   ]
  },
  {
   "cell_type": "code",
   "execution_count": 238,
   "metadata": {},
   "outputs": [],
   "source": [
    "df.to_csv('./df_with_nan.csv', index=False)"
   ]
  },
  {
   "cell_type": "markdown",
   "metadata": {},
   "source": [
    "### nanを埋める"
   ]
  },
  {
   "cell_type": "code",
   "execution_count": 239,
   "metadata": {
    "scrolled": true
   },
   "outputs": [],
   "source": [
    "#負の遠方\n",
    "df['balance_p_log_std'] = df['balance_p_log_std_nan'].fillna(-10)\n",
    "df['balance_m_log_std'] = df['balance_m_log_std_nan'].fillna(-10)"
   ]
  },
  {
   "cell_type": "code",
   "execution_count": 240,
   "metadata": {},
   "outputs": [],
   "source": [
    "#正の遠方\n",
    "df['pdays_log_std'] = df['pdays_log_std_nan'].fillna(5)"
   ]
  },
  {
   "cell_type": "code",
   "execution_count": 241,
   "metadata": {},
   "outputs": [],
   "source": [
    "#負の後方\n",
    "df['previous_log'] = df['previous_log_nan'].fillna(-1)"
   ]
  },
  {
   "cell_type": "code",
   "execution_count": 242,
   "metadata": {},
   "outputs": [],
   "source": [
    "df.to_csv('./df_without_nan.csv', index=False)"
   ]
  },
  {
   "cell_type": "markdown",
   "metadata": {},
   "source": [
    "### データ選択"
   ]
  },
  {
   "cell_type": "code",
   "execution_count": 243,
   "metadata": {},
   "outputs": [
    {
     "data": {
      "text/plain": [
       "Index(['id', 'age', 'job', 'marital', 'education', 'default', 'balance',\n",
       "       'housing', 'loan', 'contact', 'day', 'month', 'duration', 'campaign',\n",
       "       'pdays', 'previous', 'poutcome', 'y', 'age_log', 'age_log_std',\n",
       "       'balance_p_nan', 'balance_m_nan', 'balance_p_log_nan',\n",
       "       'balance_m_log_nan', 'balance_p_log_std_nan', 'balance_m_log_std_nan',\n",
       "       'balance_sign', 'day_total', 'duration_log', 'duration_log_std',\n",
       "       'duration_inv', 'campaign_log', 'pdays_nan', 'pdays_log_nan',\n",
       "       'pdays_log_std_nan', 'previous_nan', 'previous_log_nan', 'freq',\n",
       "       'total_touch', 'day_total_minus_pdays', 'balance_p_log_std',\n",
       "       'balance_m_log_std', 'pdays_log_std', 'previous_log'],\n",
       "      dtype='object')"
      ]
     },
     "execution_count": 243,
     "metadata": {},
     "output_type": "execute_result"
    }
   ],
   "source": [
    "df.columns"
   ]
  },
  {
   "cell_type": "code",
   "execution_count": 244,
   "metadata": {},
   "outputs": [],
   "source": [
    "df_new = df[['y',\n",
    "             'month',\n",
    "             'age_log_std',\n",
    "             'balance_sign', \n",
    "             'day_total',\n",
    "             'duration_log_std',\n",
    "             'duration_inv',\n",
    "             'campaign_log',\n",
    "             'freq',\n",
    "             'balance_p_log_std',\n",
    "             'balance_m_log_std',\n",
    "             'pdays_log_std',\n",
    "             'previous_log',\n",
    "             'total_touch',\n",
    "             'day_total_minus_pdays',\n",
    "             ]].copy()"
   ]
  },
  {
   "cell_type": "code",
   "execution_count": 245,
   "metadata": {
    "scrolled": false
   },
   "outputs": [
    {
     "data": {
      "text/plain": [
       "Index(['y', 'month', 'age_log_std', 'balance_sign', 'day_total',\n",
       "       'duration_log_std', 'duration_inv', 'campaign_log', 'freq',\n",
       "       'balance_p_log_std', 'balance_m_log_std', 'pdays_log_std',\n",
       "       'previous_log', 'total_touch', 'day_total_minus_pdays'],\n",
       "      dtype='object')"
      ]
     },
     "execution_count": 245,
     "metadata": {},
     "output_type": "execute_result"
    }
   ],
   "source": [
    "df_new.columns"
   ]
  },
  {
   "cell_type": "markdown",
   "metadata": {},
   "source": [
    "## 離散値"
   ]
  },
  {
   "cell_type": "markdown",
   "metadata": {},
   "source": [
    "- job - 職種\n",
    "- marital : 未婚/既婚\n",
    "- education : 教育水準\n",
    "- default : 債務不履行があるか yes/no\n",
    "- housing : 住宅ローン yes/no\n",
    "- loan : 個人ローン yes/no\n",
    "- contact : 連絡方法"
   ]
  },
  {
   "cell_type": "code",
   "execution_count": 246,
   "metadata": {
    "scrolled": true
   },
   "outputs": [],
   "source": [
    "df_new = add_dummies(df_new, df.job)\n",
    "df_new = add_dummies(df_new, df.marital)\n",
    "df_new = add_dummies(df_new, df.education)"
   ]
  },
  {
   "cell_type": "code",
   "execution_count": 247,
   "metadata": {
    "scrolled": true
   },
   "outputs": [
    {
     "data": {
      "text/plain": [
       "Index(['y', 'month', 'age_log_std', 'balance_sign', 'day_total',\n",
       "       'duration_log_std', 'duration_inv', 'campaign_log', 'freq',\n",
       "       'balance_p_log_std', 'balance_m_log_std', 'pdays_log_std',\n",
       "       'previous_log', 'total_touch', 'day_total_minus_pdays', 'job_admin.',\n",
       "       'job_blue-collar', 'job_entrepreneur', 'job_housemaid',\n",
       "       'job_management', 'job_retired', 'job_self-employed', 'job_services',\n",
       "       'job_student', 'job_technician', 'job_unemployed', 'marital_divorced',\n",
       "       'marital_married', 'marital_single', 'education_primary',\n",
       "       'education_secondary', 'education_tertiary'],\n",
       "      dtype='object')"
      ]
     },
     "execution_count": 247,
     "metadata": {},
     "output_type": "execute_result"
    }
   ],
   "source": [
    "df_new.columns"
   ]
  },
  {
   "cell_type": "code",
   "execution_count": 248,
   "metadata": {},
   "outputs": [],
   "source": [
    "df_new = add_yn_map(df_new, df.default)\n",
    "df_new = add_yn_map(df_new, df.housing)\n",
    "df_new = add_yn_map(df_new, df.loan)"
   ]
  },
  {
   "cell_type": "code",
   "execution_count": 249,
   "metadata": {
    "scrolled": false
   },
   "outputs": [
    {
     "data": {
      "text/plain": [
       "Index(['y', 'month', 'age_log_std', 'balance_sign', 'day_total',\n",
       "       'duration_log_std', 'duration_inv', 'campaign_log', 'freq',\n",
       "       'balance_p_log_std', 'balance_m_log_std', 'pdays_log_std',\n",
       "       'previous_log', 'total_touch', 'day_total_minus_pdays', 'job_admin.',\n",
       "       'job_blue-collar', 'job_entrepreneur', 'job_housemaid',\n",
       "       'job_management', 'job_retired', 'job_self-employed', 'job_services',\n",
       "       'job_student', 'job_technician', 'job_unemployed', 'marital_divorced',\n",
       "       'marital_married', 'marital_single', 'education_primary',\n",
       "       'education_secondary', 'education_tertiary', 'default', 'housing',\n",
       "       'loan'],\n",
       "      dtype='object')"
      ]
     },
     "execution_count": 249,
     "metadata": {},
     "output_type": "execute_result"
    }
   ],
   "source": [
    "df_new.columns"
   ]
  },
  {
   "cell_type": "markdown",
   "metadata": {},
   "source": [
    "unknownに有意な差"
   ]
  },
  {
   "cell_type": "code",
   "execution_count": 250,
   "metadata": {},
   "outputs": [],
   "source": [
    "df_new = add_dummies(df_new, df.contact, drop_unknown=False)"
   ]
  },
  {
   "cell_type": "code",
   "execution_count": 251,
   "metadata": {},
   "outputs": [],
   "source": [
    "df_new = add_dummies(df_new, df.month)"
   ]
  },
  {
   "cell_type": "code",
   "execution_count": 252,
   "metadata": {
    "scrolled": true
   },
   "outputs": [
    {
     "data": {
      "text/plain": [
       "Index(['y', 'month', 'age_log_std', 'balance_sign', 'day_total',\n",
       "       'duration_log_std', 'duration_inv', 'campaign_log', 'freq',\n",
       "       'balance_p_log_std', 'balance_m_log_std', 'pdays_log_std',\n",
       "       'previous_log', 'total_touch', 'day_total_minus_pdays', 'job_admin.',\n",
       "       'job_blue-collar', 'job_entrepreneur', 'job_housemaid',\n",
       "       'job_management', 'job_retired', 'job_self-employed', 'job_services',\n",
       "       'job_student', 'job_technician', 'job_unemployed', 'marital_divorced',\n",
       "       'marital_married', 'marital_single', 'education_primary',\n",
       "       'education_secondary', 'education_tertiary', 'default', 'housing',\n",
       "       'loan', 'contact_cellular', 'contact_telephone', 'contact_unknown',\n",
       "       'month_1', 'month_2', 'month_3', 'month_4', 'month_5', 'month_6',\n",
       "       'month_7', 'month_8', 'month_9', 'month_10', 'month_11', 'month_12'],\n",
       "      dtype='object')"
      ]
     },
     "execution_count": 252,
     "metadata": {},
     "output_type": "execute_result"
    }
   ],
   "source": [
    "df_new.columns"
   ]
  },
  {
   "cell_type": "markdown",
   "metadata": {},
   "source": [
    "- poutcome : 前回のキャンペーンの成果"
   ]
  },
  {
   "cell_type": "code",
   "execution_count": 253,
   "metadata": {},
   "outputs": [],
   "source": [
    "df_new = add_dummies(df_new, df.poutcome)"
   ]
  },
  {
   "cell_type": "raw",
   "metadata": {},
   "source": [
    "df_new['duration_bin'] = pd.cut(df_new.duration_log, bins=8)"
   ]
  },
  {
   "cell_type": "raw",
   "metadata": {},
   "source": [
    "y_map = df_new.groupby('duration_bin').y.mean()"
   ]
  },
  {
   "cell_type": "raw",
   "metadata": {},
   "source": [
    "df_new['duration_bin'] = df_new['duration_bin'].map(y_map)"
   ]
  },
  {
   "cell_type": "raw",
   "metadata": {},
   "source": [
    "df_new['duration_bin'] = (df_new['duration_bin']*100).astype(int)"
   ]
  },
  {
   "cell_type": "markdown",
   "metadata": {},
   "source": [
    "## 学習"
   ]
  },
  {
   "cell_type": "code",
   "execution_count": 254,
   "metadata": {
    "scrolled": false
   },
   "outputs": [
    {
     "data": {
      "text/plain": [
       "Index(['y', 'month', 'age_log_std', 'balance_sign', 'day_total',\n",
       "       'duration_log_std', 'duration_inv', 'campaign_log', 'freq',\n",
       "       'balance_p_log_std', 'balance_m_log_std', 'pdays_log_std',\n",
       "       'previous_log', 'total_touch', 'day_total_minus_pdays', 'job_admin.',\n",
       "       'job_blue-collar', 'job_entrepreneur', 'job_housemaid',\n",
       "       'job_management', 'job_retired', 'job_self-employed', 'job_services',\n",
       "       'job_student', 'job_technician', 'job_unemployed', 'marital_divorced',\n",
       "       'marital_married', 'marital_single', 'education_primary',\n",
       "       'education_secondary', 'education_tertiary', 'default', 'housing',\n",
       "       'loan', 'contact_cellular', 'contact_telephone', 'contact_unknown',\n",
       "       'month_1', 'month_2', 'month_3', 'month_4', 'month_5', 'month_6',\n",
       "       'month_7', 'month_8', 'month_9', 'month_10', 'month_11', 'month_12',\n",
       "       'poutcome_failure', 'poutcome_other', 'poutcome_success'],\n",
       "      dtype='object')"
      ]
     },
     "execution_count": 254,
     "metadata": {},
     "output_type": "execute_result"
    }
   ],
   "source": [
    "df_new.columns"
   ]
  },
  {
   "cell_type": "code",
   "execution_count": 255,
   "metadata": {},
   "outputs": [],
   "source": [
    "X = df_new.drop(['y'], axis=1)[:train_len].values\n",
    "y = df_new['y'][:train_len].values"
   ]
  },
  {
   "cell_type": "code",
   "execution_count": 256,
   "metadata": {},
   "outputs": [],
   "source": [
    "from sklearn.model_selection import train_test_split\n",
    "X_train, X_test, y_train, y_test = train_test_split(X, y, test_size=.3, random_state=0)"
   ]
  },
  {
   "cell_type": "code",
   "execution_count": 257,
   "metadata": {},
   "outputs": [],
   "source": [
    "from sklearn.ensemble import RandomForestClassifier\n",
    "rfc = RandomForestClassifier(n_estimators=100)"
   ]
  },
  {
   "cell_type": "code",
   "execution_count": 258,
   "metadata": {
    "scrolled": true
   },
   "outputs": [
    {
     "data": {
      "text/plain": [
       "RandomForestClassifier(bootstrap=True, class_weight=None, criterion='gini',\n",
       "            max_depth=None, max_features='auto', max_leaf_nodes=None,\n",
       "            min_impurity_decrease=0.0, min_impurity_split=None,\n",
       "            min_samples_leaf=1, min_samples_split=2,\n",
       "            min_weight_fraction_leaf=0.0, n_estimators=100, n_jobs=1,\n",
       "            oob_score=False, random_state=None, verbose=0,\n",
       "            warm_start=False)"
      ]
     },
     "execution_count": 258,
     "metadata": {},
     "output_type": "execute_result"
    }
   ],
   "source": [
    "rfc.fit(X_train, y_train)"
   ]
  },
  {
   "cell_type": "code",
   "execution_count": 259,
   "metadata": {
    "scrolled": true
   },
   "outputs": [
    {
     "data": {
      "image/png": "[encoded data removed]",
      "text/plain": [
       "<Figure size 720x576 with 1 Axes>"
      ]
     },
     "metadata": {},
     "output_type": "display_data"
    }
   ],
   "source": [
    "feature_names = df_new.drop(['y'], axis=1).columns\n",
    "n_features = len(feature_names)\n",
    "plt.figure(figsize=(10, 8))\n",
    "plt.barh(range(n_features), rfc.feature_importances_ , align='center')\n",
    "plt.yticks(np.arange(n_features), feature_names)\n",
    "plt.show()"
   ]
  },
  {
   "cell_type": "code",
   "execution_count": 260,
   "metadata": {
    "scrolled": true
   },
   "outputs": [
    {
     "data": {
      "text/plain": [
       "array([0.02196868, 0.06640315, 0.00555978, 0.07282928, 0.15608535,\n",
       "       0.14732591, 0.0179863 , 0.02933189, 0.06108119, 0.00443085,\n",
       "       0.03123161, 0.0134016 , 0.02165955, 0.08019759, 0.007082  ,\n",
       "       0.00657344, 0.00284036, 0.00233768, 0.00868196, 0.0043312 ,\n",
       "       0.00339589, 0.00481796, 0.00490527, 0.00759887, 0.0035122 ,\n",
       "       0.00611717, 0.00976738, 0.00863846, 0.00620594, 0.009985  ,\n",
       "       0.00951362, 0.00151715, 0.01814124, 0.0071089 , 0.00894251,\n",
       "       0.00373457, 0.0080347 , 0.00155741, 0.00332391, 0.00699603,\n",
       "       0.00546924, 0.00558661, 0.00765908, 0.00425906, 0.00476878,\n",
       "       0.00558447, 0.00830358, 0.00532244, 0.00193272, 0.0070189 ,\n",
       "       0.00389838, 0.04504318])"
      ]
     },
     "execution_count": 260,
     "metadata": {},
     "output_type": "execute_result"
    }
   ],
   "source": [
    "rfc.feature_importances_"
   ]
  },
  {
   "cell_type": "code",
   "execution_count": 261,
   "metadata": {
    "scrolled": true
   },
   "outputs": [],
   "source": [
    "featire_df = pd.DataFrame({'feature':feature_names, 'importance':rfc.feature_importances_})"
   ]
  },
  {
   "cell_type": "code",
   "execution_count": 262,
   "metadata": {
    "scrolled": true
   },
   "outputs": [],
   "source": [
    "featire_Ser = pd.Series(rfc.feature_importances_, index=feature_names)"
   ]
  },
  {
   "cell_type": "code",
   "execution_count": 263,
   "metadata": {
    "scrolled": true
   },
   "outputs": [],
   "source": [
    "featire_Ser = featire_Ser.sort_values(ascending=False)"
   ]
  },
  {
   "cell_type": "code",
   "execution_count": 264,
   "metadata": {
    "scrolled": false
   },
   "outputs": [
    {
     "data": {
      "text/plain": [
       "Index(['duration_log_std', 'duration_inv', 'day_total_minus_pdays',\n",
       "       'day_total', 'age_log_std', 'balance_p_log_std', 'poutcome_success',\n",
       "       'pdays_log_std', 'freq', 'month', 'total_touch', 'housing',\n",
       "       'campaign_log', 'previous_log', 'education_secondary',\n",
       "       'marital_married', 'education_tertiary', 'contact_cellular',\n",
       "       'job_management', 'marital_single'],\n",
       "      dtype='object')"
      ]
     },
     "execution_count": 264,
     "metadata": {},
     "output_type": "execute_result"
    }
   ],
   "source": [
    "featire_Ser.index[:20]"
   ]
  },
  {
   "cell_type": "markdown",
   "metadata": {},
   "source": [
    "#### 勾配Boosting木"
   ]
  },
  {
   "cell_type": "raw",
   "metadata": {},
   "source": [
    "from sklearn.ensemble import GradientBoostingClassifier\n",
    "gbc = GradientBoostingClassifier()\n",
    "from sklearn.model_selection import GridSearchCV\n",
    "param_grid = {\n",
    "    'n_estimators' : [100],\n",
    "    'learning_rate': [0.1, 0.05, 0.01],\n",
    "    'max_depth': [2, 3, 4],\n",
    "    'min_samples_leaf': [1, 10, 50],\n",
    "    #'max_features': [1.0, 0.3, 0.1] \n",
    "              }\n",
    "gs = GridSearchCV(gbc, param_grid=param_grid, cv=2, verbose=2)"
   ]
  },
  {
   "cell_type": "raw",
   "metadata": {},
   "source": [
    "gbc.fit(X_train, y_train)"
   ]
  },
  {
   "cell_type": "raw",
   "metadata": {
    "scrolled": true
   },
   "source": [
    "gs.fit(X_train, y_train)"
   ]
  },
  {
   "cell_type": "raw",
   "metadata": {
    "scrolled": true
   },
   "source": [
    "feature_names = df_new.drop(['y'], axis=1).columns\n",
    "n_features = len(feature_names)\n",
    "plt.figure(figsize=(10, 8))\n",
    "plt.barh(range(n_features), gs.best_estimator_.feature_importances_ , align='center')\n",
    "plt.yticks(np.arange(n_features), feature_names)\n",
    "plt.show()"
   ]
  },
  {
   "cell_type": "markdown",
   "metadata": {},
   "source": [
    "### 予測スコア"
   ]
  },
  {
   "cell_type": "code",
   "execution_count": 265,
   "metadata": {},
   "outputs": [],
   "source": [
    "y_train_pred = rfc.predict_proba(X_train)\n",
    "y_test_pred = rfc.predict_proba(X_test)"
   ]
  },
  {
   "cell_type": "raw",
   "metadata": {},
   "source": [
    "y_train_pred = gs.best_estimator_.predict_proba(X_train)\n",
    "y_test_pred = gs.best_estimator_.predict_proba(X_test)"
   ]
  },
  {
   "cell_type": "code",
   "execution_count": 266,
   "metadata": {
    "scrolled": true
   },
   "outputs": [
    {
     "name": "stdout",
     "output_type": "stream",
     "text": [
      "1.0\n",
      "0.9323992152238424\n"
     ]
    }
   ],
   "source": [
    "from sklearn.metrics import roc_auc_score\n",
    "print(roc_auc_score(y_train, y_train_pred[:,1]))\n",
    "print(roc_auc_score(y_test, y_test_pred[:,1]))"
   ]
  },
  {
   "cell_type": "markdown",
   "metadata": {},
   "source": [
    "全データで再学習"
   ]
  },
  {
   "cell_type": "code",
   "execution_count": 267,
   "metadata": {},
   "outputs": [
    {
     "data": {
      "text/plain": [
       "RandomForestClassifier(bootstrap=True, class_weight=None, criterion='gini',\n",
       "            max_depth=None, max_features='auto', max_leaf_nodes=None,\n",
       "            min_impurity_decrease=0.0, min_impurity_split=None,\n",
       "            min_samples_leaf=1, min_samples_split=2,\n",
       "            min_weight_fraction_leaf=0.0, n_estimators=100, n_jobs=1,\n",
       "            oob_score=False, random_state=None, verbose=0,\n",
       "            warm_start=False)"
      ]
     },
     "execution_count": 267,
     "metadata": {},
     "output_type": "execute_result"
    }
   ],
   "source": [
    "rfc.fit(X, y)"
   ]
  },
  {
   "cell_type": "raw",
   "metadata": {
    "scrolled": true
   },
   "source": [
    "from sklearn import metrics\n",
    "print(metrics.accuracy_score(y_test, y_test_pred))\n",
    "print(metrics.recall_score(y_test, y_test_pred))\n",
    "print(metrics.precision_score(y_test, y_test_pred))"
   ]
  },
  {
   "cell_type": "markdown",
   "metadata": {},
   "source": [
    "## 提出"
   ]
  },
  {
   "cell_type": "code",
   "execution_count": 268,
   "metadata": {},
   "outputs": [],
   "source": [
    "X_sub = df_new.drop(['y'], axis=1)[train_len:].values"
   ]
  },
  {
   "cell_type": "code",
   "execution_count": 269,
   "metadata": {},
   "outputs": [
    {
     "data": {
      "text/plain": [
       "18083"
      ]
     },
     "execution_count": 269,
     "metadata": {},
     "output_type": "execute_result"
    }
   ],
   "source": [
    "len(X_sub)"
   ]
  },
  {
   "cell_type": "code",
   "execution_count": 270,
   "metadata": {},
   "outputs": [],
   "source": [
    "y_sub_pred = rfc.predict_proba(X_sub)\n",
    "y_sub_pred = y_sub_pred[:,1]"
   ]
  },
  {
   "cell_type": "code",
   "execution_count": 271,
   "metadata": {},
   "outputs": [],
   "source": [
    "submission = pd.Series(y_sub_pred, index=np.arange(1, len(y_sub_pred)+1))"
   ]
  },
  {
   "cell_type": "code",
   "execution_count": 272,
   "metadata": {},
   "outputs": [
    {
     "data": {
      "text/plain": [
       "1    0.68\n",
       "2    0.60\n",
       "3    0.00\n",
       "4    0.01\n",
       "5    0.11\n",
       "dtype: float64"
      ]
     },
     "execution_count": 272,
     "metadata": {},
     "output_type": "execute_result"
    }
   ],
   "source": [
    "submission.head()"
   ]
  },
  {
   "cell_type": "code",
   "execution_count": 273,
   "metadata": {},
   "outputs": [],
   "source": [
    "submission.to_csv('../output/submission.csv')"
   ]
  },
  {
   "cell_type": "code",
   "execution_count": null,
   "metadata": {},
   "outputs": [],
   "source": []
  }
 ],
 "metadata": {
  "kernelspec": {
   "display_name": "Python 3",
   "language": "python",
   "name": "python3"
  },
  "language_info": {
   "codemirror_mode": {
    "name": "ipython",
    "version": 3
   },
   "file_extension": ".py",
   "mimetype": "text/x-python",
   "name": "python",
   "nbconvert_exporter": "python",
   "pygments_lexer": "ipython3",
   "version": "3.6.5"
  }
 },
 "nbformat": 4,
 "nbformat_minor": 2
}
