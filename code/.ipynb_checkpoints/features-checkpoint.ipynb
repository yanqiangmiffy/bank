{
 "cells": [
  {
   "cell_type": "code",
   "execution_count": 547,
   "metadata": {
    "scrolled": true
   },
   "outputs": [],
   "source": [
    "import numpy as np\n",
    "import pandas as pd\n",
    "import seaborn as sns\n",
    "import matplotlib.pyplot as plt\n",
    "\n",
    "pd.set_option('max_columns', 100)\n",
    "%matplotlib inline"
   ]
  },
  {
   "cell_type": "code",
   "execution_count": 548,
   "metadata": {},
   "outputs": [],
   "source": [
    "from sklearn.preprocessing import StandardScaler\n",
    "ss = StandardScaler()"
   ]
  },
  {
   "cell_type": "code",
   "execution_count": 549,
   "metadata": {},
   "outputs": [],
   "source": [
    "def standardize_nan(x):\n",
    "    x_mean = np.nanmean(x)\n",
    "    x_std = np.nanstd(x)\n",
    "    return (x - x_mean) / x_std"
   ]
  },
  {
   "cell_type": "code",
   "execution_count": 550,
   "metadata": {},
   "outputs": [],
   "source": [
    "def add_dummies(obj, source, drop_unknown=True):\n",
    "    col_name = source.name\n",
    "    dummies = pd.get_dummies(source, prefix=col_name)\n",
    "    name_unknown = col_name + '_unknown'\n",
    "    if drop_unknown == True:\n",
    "        if name_unknown in dummies.columns:\n",
    "            dummies.drop([name_unknown], axis=1, inplace=True)\n",
    "    return pd.concat([obj, dummies], axis=1, sort=False)"
   ]
  },
  {
   "cell_type": "code",
   "execution_count": 551,
   "metadata": {},
   "outputs": [],
   "source": [
    "def add_yn_map(obj, source):\n",
    "    yn = source.map({'yes':1, 'no':0})\n",
    "    return pd.concat([obj, yn], axis=1, sort=False)"
   ]
  },
  {
   "cell_type": "code",
   "execution_count": 552,
   "metadata": {},
   "outputs": [],
   "source": [
    "df_train_raw = pd.read_csv('../input/train.csv')\n",
    "df_test_raw = pd.read_csv('../input/test.csv')\n",
    "df_train = df_train_raw.copy()\n",
    "df_test = df_test_raw.copy()\n",
    "train_len = len(df_train)"
   ]
  },
  {
   "cell_type": "markdown",
   "metadata": {},
   "source": [
    "## 外れ値"
   ]
  },
  {
   "cell_type": "code",
   "execution_count": 553,
   "metadata": {},
   "outputs": [],
   "source": [
    "outliers = df_train[df_train.balance>80000]\n",
    "outliers = pd.concat([outliers, df_train[df_train.duration>4000]], axis=0)\n",
    "outliers = pd.concat([outliers, df_train[df_train.previous>100]], axis=0)\n",
    "df_train = df_train.drop(outliers.index, axis=0)"
   ]
  },
  {
   "cell_type": "code",
   "execution_count": 554,
   "metadata": {},
   "outputs": [],
   "source": [
    "df_train.to_csv('./trian_without_outliers.csv', index=False)"
   ]
  },
  {
   "cell_type": "markdown",
   "metadata": {},
   "source": [
    "# データ整形"
   ]
  },
  {
   "cell_type": "markdown",
   "metadata": {},
   "source": [
    "dfではindexは振り直される"
   ]
  },
  {
   "cell_type": "code",
   "execution_count": 555,
   "metadata": {},
   "outputs": [],
   "source": [
    "train_len = len(df_train)\n",
    "df = pd.concat([df_train, df_test], axis=0, ignore_index=True, sort=False)\n",
    "df_new = pd.DataFrame(df['y']).copy()"
   ]
  },
  {
   "cell_type": "markdown",
   "metadata": {},
   "source": [
    "## 連続値"
   ]
  },
  {
   "cell_type": "markdown",
   "metadata": {},
   "source": [
    "- age : 年齢"
   ]
  },
  {
   "cell_type": "code",
   "execution_count": 556,
   "metadata": {},
   "outputs": [],
   "source": [
    "df_new['age_log'] = np.log(df.age)\n",
    "df_new['age_log'] = standardize_nan(df_new['age_log'])"
   ]
  },
  {
   "cell_type": "markdown",
   "metadata": {},
   "source": [
    "- balance : 年間平均残高"
   ]
  },
  {
   "cell_type": "code",
   "execution_count": 557,
   "metadata": {},
   "outputs": [],
   "source": [
    "df_new['balance_p'] = df['balance'].where(df.balance>0, np.nan)\n",
    "df_new['balance_m'] = df['balance'].where(df.balance<0, np.nan)\n",
    "\n",
    "df_new['balance_p'] = np.log(df_new['balance_p'])\n",
    "df_new['balance_m'] = np.log(-df_new['balance_m'])\n",
    "\n",
    "df_new['balance_p'] = standardize_nan(df_new['balance_p'])\n",
    "df_new['balance_m'] = standardize_nan(df_new['balance_m'])"
   ]
  },
  {
   "cell_type": "code",
   "execution_count": 558,
   "metadata": {
    "scrolled": true
   },
   "outputs": [],
   "source": [
    "df_new['balance_sign'] = np.sign(df['balance'])"
   ]
  },
  {
   "cell_type": "markdown",
   "metadata": {},
   "source": [
    "- day : 最終接触日  \n",
    "外す"
   ]
  },
  {
   "cell_type": "markdown",
   "metadata": {},
   "source": [
    "- duration : 最終接触時間（秒）"
   ]
  },
  {
   "cell_type": "code",
   "execution_count": 559,
   "metadata": {},
   "outputs": [],
   "source": [
    "df_new['duration_log'] = np.log1p(df['duration'])\n",
    "df_new['duration_log'] = standardize_nan(df_new['duration_log'])"
   ]
  },
  {
   "cell_type": "code",
   "execution_count": 560,
   "metadata": {},
   "outputs": [],
   "source": [
    "df_new['duration_inv'] = 1/(df['duration'] + 1)"
   ]
  },
  {
   "cell_type": "markdown",
   "metadata": {},
   "source": [
    "- campaign : 現キャンペーンにおける接触回数"
   ]
  },
  {
   "cell_type": "code",
   "execution_count": 561,
   "metadata": {},
   "outputs": [],
   "source": [
    "df_new['campaign_cut'] = df['campaign'].where(df.campaign<5, 5)\n",
    "df_new['campaign_log'] = np.log(df['campaign'])"
   ]
  },
  {
   "cell_type": "markdown",
   "metadata": {},
   "source": [
    "- pdays : 経過日数：前キャンペーン接触後の日数"
   ]
  },
  {
   "cell_type": "markdown",
   "metadata": {},
   "source": [
    "pdays = -1は前回接触が無かった人  \n",
    "大きな数にした方が自然"
   ]
  },
  {
   "cell_type": "code",
   "execution_count": 562,
   "metadata": {},
   "outputs": [
    {
     "data": {
      "text/plain": [
       "871"
      ]
     },
     "execution_count": 562,
     "metadata": {},
     "output_type": "execute_result"
    }
   ],
   "source": [
    "df['pdays'].max()"
   ]
  },
  {
   "cell_type": "code",
   "execution_count": 563,
   "metadata": {
    "scrolled": true
   },
   "outputs": [],
   "source": [
    "df['pdays'] = df['pdays'].where(df.pdays!=-1, 1000)"
   ]
  },
  {
   "cell_type": "code",
   "execution_count": 564,
   "metadata": {},
   "outputs": [],
   "source": [
    "#いったん1000は外してlog→正規分布\n",
    "df_new['pdays_log'] = df['pdays'].where(df.pdays!=1000, np.nan)\n",
    "df_new['pdays_log'] = np.log(df_new['pdays_log'])\n",
    "df_new['pdays_log'] = standardize_nan(df_new['pdays_log'])"
   ]
  },
  {
   "cell_type": "markdown",
   "metadata": {},
   "source": [
    "- previous : 接触実績：現キャンペーン以前までに顧客に接触した回数"
   ]
  },
  {
   "cell_type": "code",
   "execution_count": 565,
   "metadata": {
    "scrolled": true
   },
   "outputs": [],
   "source": [
    "#初接触\n",
    "#df_new['first'] = df['previous'].where(df.previous==0, -1)\n",
    "#df_new['first'] = 1"
   ]
  },
  {
   "cell_type": "code",
   "execution_count": 566,
   "metadata": {},
   "outputs": [],
   "source": [
    "#いったん0は外してlog\n",
    "df_new['previous_log'] = df['previous'].where(df.previous!=0, np.nan)\n",
    "df_new['previous_log'] = np.log(df_new['previous_log'])\n",
    "#df_new['previous_log'] = standardize_nan(df_new['previous_log'])"
   ]
  },
  {
   "cell_type": "code",
   "execution_count": 567,
   "metadata": {},
   "outputs": [],
   "source": [
    "#接触頻度\n",
    "#df_new['freq'] = np.log((df['campaign'] + df['previous']) / df['pdays'])\n",
    "df_new['freq'] = df['campaign'] + df['previous'] / df['pdays']"
   ]
  },
  {
   "cell_type": "markdown",
   "metadata": {},
   "source": [
    "### previous + campaign"
   ]
  },
  {
   "cell_type": "code",
   "execution_count": 568,
   "metadata": {},
   "outputs": [],
   "source": [
    "df_new['contact'] = df['previous'] + df['campaign']"
   ]
  },
  {
   "cell_type": "code",
   "execution_count": 569,
   "metadata": {},
   "outputs": [],
   "source": [
    "df_new['contact_log'] = np.log(df_new['contact'])"
   ]
  },
  {
   "cell_type": "markdown",
   "metadata": {},
   "source": [
    "プロット用に出力"
   ]
  },
  {
   "cell_type": "code",
   "execution_count": 570,
   "metadata": {},
   "outputs": [],
   "source": [
    "df_new.to_csv('./df_new_1.csv', index=False)"
   ]
  },
  {
   "cell_type": "markdown",
   "metadata": {},
   "source": [
    "### nanを埋める"
   ]
  },
  {
   "cell_type": "code",
   "execution_count": null,
   "metadata": {},
   "outputs": [],
   "source": []
  },
  {
   "cell_type": "code",
   "execution_count": 571,
   "metadata": {
    "scrolled": true
   },
   "outputs": [],
   "source": [
    "#負の遠方\n",
    "df_new['balance_p'] = df_new['balance_p'].fillna(-10)\n",
    "df_new['balance_m'] = df_new['balance_m'].fillna(-10)"
   ]
  },
  {
   "cell_type": "code",
   "execution_count": 572,
   "metadata": {},
   "outputs": [],
   "source": [
    "#正の遠方\n",
    "df_new['pdays_log'] = df_new['pdays_log'].fillna(5)"
   ]
  },
  {
   "cell_type": "code",
   "execution_count": 573,
   "metadata": {},
   "outputs": [],
   "source": [
    "#負の後方\n",
    "df_new['previous_log'] = df_new['previous_log'].fillna(-1)"
   ]
  },
  {
   "cell_type": "code",
   "execution_count": 574,
   "metadata": {},
   "outputs": [],
   "source": [
    "df_new.to_csv('./df_new_2.csv', index=False)"
   ]
  },
  {
   "cell_type": "markdown",
   "metadata": {},
   "source": [
    "## ドロップ"
   ]
  },
  {
   "cell_type": "code",
   "execution_count": 575,
   "metadata": {},
   "outputs": [],
   "source": [
    "#df_new.drop(['balance_m', 'pdays_log', 'previous_log'], axis=1, inplace=True)"
   ]
  },
  {
   "cell_type": "code",
   "execution_count": 576,
   "metadata": {},
   "outputs": [],
   "source": [
    "df_new.to_csv('./df_new_3.csv', index=False)"
   ]
  },
  {
   "cell_type": "markdown",
   "metadata": {},
   "source": [
    "## 離散値"
   ]
  },
  {
   "cell_type": "markdown",
   "metadata": {},
   "source": [
    "- job - 職種\n",
    "- marital : 未婚/既婚\n",
    "- education : 教育水準\n",
    "- default : 債務不履行があるか yes/no\n",
    "- housing : 住宅ローン yes/no\n",
    "- loan : 個人ローン yes/no\n",
    "- contact : 連絡方法"
   ]
  },
  {
   "cell_type": "code",
   "execution_count": 577,
   "metadata": {
    "scrolled": true
   },
   "outputs": [],
   "source": [
    "df_new = add_dummies(df_new, df.job)\n",
    "df_new = add_dummies(df_new, df.marital)\n",
    "df_new = add_dummies(df_new, df.education)"
   ]
  },
  {
   "cell_type": "code",
   "execution_count": 578,
   "metadata": {},
   "outputs": [],
   "source": [
    "df_new = add_yn_map(df_new, df.default)\n",
    "df_new = add_yn_map(df_new, df.housing)\n",
    "df_new = add_yn_map(df_new, df.loan)"
   ]
  },
  {
   "cell_type": "markdown",
   "metadata": {},
   "source": [
    "unknownに有意な差"
   ]
  },
  {
   "cell_type": "code",
   "execution_count": 579,
   "metadata": {},
   "outputs": [],
   "source": [
    "df_new = add_dummies(df_new, df.contact, drop_unknown=False)"
   ]
  },
  {
   "cell_type": "markdown",
   "metadata": {},
   "source": [
    "- month : 最終接触月"
   ]
  },
  {
   "cell_type": "code",
   "execution_count": 580,
   "metadata": {
    "scrolled": false
   },
   "outputs": [],
   "source": [
    "df['month'] = df['month'].map({'jan':1,\n",
    "                       'feb':2,\n",
    "                       'mar':3,\n",
    "                       'apr':4,\n",
    "                       'may':5,\n",
    "                       'jun':6,\n",
    "                       'jul':7,\n",
    "                       'aug':8,\n",
    "                       'sep':9,\n",
    "                       'oct':10,\n",
    "                       'nov':11,\n",
    "                       'dec':12\n",
    "                      })"
   ]
  },
  {
   "cell_type": "code",
   "execution_count": 581,
   "metadata": {},
   "outputs": [],
   "source": [
    "df_new['day'] = df['month'] * 31 + df['day']"
   ]
  },
  {
   "cell_type": "code",
   "execution_count": 582,
   "metadata": {},
   "outputs": [],
   "source": [
    "df_new = add_dummies(df_new, df.month)"
   ]
  },
  {
   "cell_type": "markdown",
   "metadata": {},
   "source": [
    "- poutcome : 前回のキャンペーンの成果"
   ]
  },
  {
   "cell_type": "code",
   "execution_count": 583,
   "metadata": {},
   "outputs": [],
   "source": [
    "df_new = add_dummies(df_new, df.poutcome)"
   ]
  },
  {
   "cell_type": "code",
   "execution_count": null,
   "metadata": {},
   "outputs": [],
   "source": []
  },
  {
   "cell_type": "raw",
   "metadata": {},
   "source": [
    "df_new['duration_bin'] = pd.cut(df_new.duration_log, bins=8)"
   ]
  },
  {
   "cell_type": "raw",
   "metadata": {},
   "source": [
    "y_map = df_new.groupby('duration_bin').y.mean()"
   ]
  },
  {
   "cell_type": "raw",
   "metadata": {},
   "source": [
    "df_new['duration_bin'] = df_new['duration_bin'].map(y_map)"
   ]
  },
  {
   "cell_type": "raw",
   "metadata": {},
   "source": [
    "df_new['duration_bin'] = (df_new['duration_bin']*100).astype(int)"
   ]
  },
  {
   "cell_type": "markdown",
   "metadata": {},
   "source": [
    "## 学習"
   ]
  },
  {
   "cell_type": "code",
   "execution_count": 584,
   "metadata": {
    "scrolled": false
   },
   "outputs": [
    {
     "data": {
      "text/plain": [
       "Index(['y', 'age_log', 'balance_p', 'balance_m', 'balance_sign',\n",
       "       'duration_log', 'duration_inv', 'campaign_cut', 'campaign_log',\n",
       "       'pdays_log', 'previous_log', 'freq', 'contact', 'contact_log',\n",
       "       'job_admin.', 'job_blue-collar', 'job_entrepreneur', 'job_housemaid',\n",
       "       'job_management', 'job_retired', 'job_self-employed', 'job_services',\n",
       "       'job_student', 'job_technician', 'job_unemployed', 'marital_divorced',\n",
       "       'marital_married', 'marital_single', 'education_primary',\n",
       "       'education_secondary', 'education_tertiary', 'default', 'housing',\n",
       "       'loan', 'contact_cellular', 'contact_telephone', 'contact_unknown',\n",
       "       'day', 'month_1', 'month_2', 'month_3', 'month_4', 'month_5', 'month_6',\n",
       "       'month_7', 'month_8', 'month_9', 'month_10', 'month_11', 'month_12',\n",
       "       'poutcome_failure', 'poutcome_other', 'poutcome_success'],\n",
       "      dtype='object')"
      ]
     },
     "execution_count": 584,
     "metadata": {},
     "output_type": "execute_result"
    }
   ],
   "source": [
    "df_new.columns"
   ]
  },
  {
   "cell_type": "raw",
   "metadata": {},
   "source": [
    "df_new = df_new[['y',\n",
    "                'duration_log',\n",
    "                'duration_inv',\n",
    "                'day',\n",
    "                'age_log',\n",
    "                'balance_p',\n",
    "                'poutcome_success', 'freq', 'pdays_log', 'housing', 'contact']]"
   ]
  },
  {
   "cell_type": "code",
   "execution_count": 585,
   "metadata": {},
   "outputs": [],
   "source": [
    "X = df_new.drop(['y'], axis=1)[:train_len].values\n",
    "y = df_new['y'][:train_len].values"
   ]
  },
  {
   "cell_type": "code",
   "execution_count": 586,
   "metadata": {},
   "outputs": [],
   "source": [
    "from sklearn.model_selection import train_test_split\n",
    "X_train, X_test, y_train, y_test = train_test_split(X, y, test_size=.3, random_state=0)"
   ]
  },
  {
   "cell_type": "code",
   "execution_count": 587,
   "metadata": {},
   "outputs": [],
   "source": [
    "from sklearn.ensemble import RandomForestClassifier\n",
    "rfc = RandomForestClassifier(n_estimators=100)"
   ]
  },
  {
   "cell_type": "code",
   "execution_count": 588,
   "metadata": {
    "scrolled": true
   },
   "outputs": [
    {
     "data": {
      "text/plain": [
       "RandomForestClassifier(bootstrap=True, class_weight=None, criterion='gini',\n",
       "            max_depth=None, max_features='auto', max_leaf_nodes=None,\n",
       "            min_impurity_decrease=0.0, min_impurity_split=None,\n",
       "            min_samples_leaf=1, min_samples_split=2,\n",
       "            min_weight_fraction_leaf=0.0, n_estimators=100, n_jobs=1,\n",
       "            oob_score=False, random_state=None, verbose=0,\n",
       "            warm_start=False)"
      ]
     },
     "execution_count": 588,
     "metadata": {},
     "output_type": "execute_result"
    }
   ],
   "source": [
    "rfc.fit(X_train, y_train)"
   ]
  },
  {
   "cell_type": "code",
   "execution_count": 589,
   "metadata": {
    "scrolled": true
   },
   "outputs": [
    {
     "data": {
      "image/png": "[encoded data removed]",
      "text/plain": [
       "<Figure size 720x576 with 1 Axes>"
      ]
     },
     "metadata": {},
     "output_type": "display_data"
    }
   ],
   "source": [
    "feature_names = df_new.drop(['y'], axis=1).columns\n",
    "n_features = len(feature_names)\n",
    "plt.figure(figsize=(10, 8))\n",
    "plt.barh(range(n_features), rfc.feature_importances_ , align='center')\n",
    "plt.yticks(np.arange(n_features), feature_names)\n",
    "plt.show()"
   ]
  },
  {
   "cell_type": "code",
   "execution_count": 590,
   "metadata": {},
   "outputs": [
    {
     "data": {
      "text/plain": [
       "array([0.07354829, 0.06705458, 0.00487854, 0.00631775, 0.15565947,\n",
       "       0.1572914 , 0.01199907, 0.01376589, 0.0366169 , 0.02002556,\n",
       "       0.02681625, 0.01801954, 0.01751379, 0.00721346, 0.00770335,\n",
       "       0.00314095, 0.00244028, 0.00942978, 0.00479137, 0.00363681,\n",
       "       0.00525943, 0.00475795, 0.00890512, 0.00378178, 0.00663738,\n",
       "       0.01032222, 0.00866334, 0.006584  , 0.01080141, 0.01014271,\n",
       "       0.00163814, 0.01853866, 0.00769579, 0.0091569 , 0.00406505,\n",
       "       0.00910525, 0.08604287, 0.00262309, 0.00525707, 0.00889262,\n",
       "       0.00786989, 0.00816829, 0.01006675, 0.00636246, 0.00667372,\n",
       "       0.00709606, 0.00970069, 0.00660085, 0.00325645, 0.00782427,\n",
       "       0.0043501 , 0.04529664])"
      ]
     },
     "execution_count": 590,
     "metadata": {},
     "output_type": "execute_result"
    }
   ],
   "source": [
    "rfc.feature_importances_"
   ]
  },
  {
   "cell_type": "code",
   "execution_count": 591,
   "metadata": {
    "scrolled": true
   },
   "outputs": [],
   "source": [
    "featire_df = pd.DataFrame({'feature':feature_names, 'importance':rfc.feature_importances_})"
   ]
  },
  {
   "cell_type": "code",
   "execution_count": 592,
   "metadata": {
    "scrolled": true
   },
   "outputs": [],
   "source": [
    "featire_Ser = pd.Series(rfc.feature_importances_, index=feature_names)"
   ]
  },
  {
   "cell_type": "code",
   "execution_count": 593,
   "metadata": {
    "scrolled": true
   },
   "outputs": [],
   "source": [
    "featire_Ser = featire_Ser.sort_values(ascending=False)"
   ]
  },
  {
   "cell_type": "code",
   "execution_count": 594,
   "metadata": {
    "scrolled": false
   },
   "outputs": [
    {
     "data": {
      "text/plain": [
       "Index(['duration_inv', 'duration_log', 'day', 'age_log', 'balance_p',\n",
       "       'poutcome_success', 'pdays_log', 'freq', 'previous_log', 'housing',\n",
       "       'contact', 'contact_log', 'campaign_log', 'campaign_cut',\n",
       "       'education_secondary', 'marital_married', 'education_tertiary',\n",
       "       'month_6', 'month_10', 'job_management'],\n",
       "      dtype='object')"
      ]
     },
     "execution_count": 594,
     "metadata": {},
     "output_type": "execute_result"
    }
   ],
   "source": [
    "featire_Ser.index[:20]"
   ]
  },
  {
   "cell_type": "markdown",
   "metadata": {},
   "source": [
    "#### 勾配Boosting木"
   ]
  },
  {
   "cell_type": "raw",
   "metadata": {},
   "source": [
    "from sklearn.ensemble import GradientBoostingClassifier\n",
    "gbc = GradientBoostingClassifier()\n",
    "from sklearn.model_selection import GridSearchCV\n",
    "param_grid = {\n",
    "    'n_estimators' : [100],\n",
    "    'learning_rate': [0.1, 0.05, 0.01],\n",
    "    'max_depth': [2, 3, 4],\n",
    "    'min_samples_leaf': [1, 10, 50],\n",
    "    #'max_features': [1.0, 0.3, 0.1] \n",
    "              }\n",
    "gs = GridSearchCV(gbc, param_grid=param_grid, cv=2, verbose=2)"
   ]
  },
  {
   "cell_type": "raw",
   "metadata": {},
   "source": [
    "gbc.fit(X_train, y_train)"
   ]
  },
  {
   "cell_type": "raw",
   "metadata": {
    "scrolled": true
   },
   "source": [
    "gs.fit(X_train, y_train)"
   ]
  },
  {
   "cell_type": "raw",
   "metadata": {
    "scrolled": true
   },
   "source": [
    "feature_names = df_new.drop(['y'], axis=1).columns\n",
    "n_features = len(feature_names)\n",
    "plt.figure(figsize=(10, 8))\n",
    "plt.barh(range(n_features), gs.best_estimator_.feature_importances_ , align='center')\n",
    "plt.yticks(np.arange(n_features), feature_names)\n",
    "plt.show()"
   ]
  },
  {
   "cell_type": "markdown",
   "metadata": {},
   "source": [
    "### 予測スコア"
   ]
  },
  {
   "cell_type": "code",
   "execution_count": 595,
   "metadata": {},
   "outputs": [],
   "source": [
    "y_train_pred = rfc.predict_proba(X_train)\n",
    "y_test_pred = rfc.predict_proba(X_test)"
   ]
  },
  {
   "cell_type": "raw",
   "metadata": {},
   "source": [
    "y_train_pred = gs.best_estimator_.predict_proba(X_train)\n",
    "y_test_pred = gs.best_estimator_.predict_proba(X_test)"
   ]
  },
  {
   "cell_type": "code",
   "execution_count": 596,
   "metadata": {
    "scrolled": false
   },
   "outputs": [
    {
     "name": "stdout",
     "output_type": "stream",
     "text": [
      "1.0\n",
      "0.927137547127102\n"
     ]
    }
   ],
   "source": [
    "from sklearn.metrics import roc_auc_score\n",
    "print(roc_auc_score(y_train, y_train_pred[:,1]))\n",
    "print(roc_auc_score(y_test, y_test_pred[:,1]))"
   ]
  },
  {
   "cell_type": "raw",
   "metadata": {
    "scrolled": true
   },
   "source": [
    "from sklearn import metrics\n",
    "print(metrics.accuracy_score(y_test, y_test_pred))\n",
    "print(metrics.recall_score(y_test, y_test_pred))\n",
    "print(metrics.precision_score(y_test, y_test_pred))"
   ]
  },
  {
   "cell_type": "markdown",
   "metadata": {},
   "source": [
    "## 提出"
   ]
  },
  {
   "cell_type": "code",
   "execution_count": 441,
   "metadata": {},
   "outputs": [],
   "source": [
    "X_sub = df_new.drop(['y'], axis=1)[train_len:].values"
   ]
  },
  {
   "cell_type": "code",
   "execution_count": 442,
   "metadata": {},
   "outputs": [
    {
     "data": {
      "text/plain": [
       "18083"
      ]
     },
     "execution_count": 442,
     "metadata": {},
     "output_type": "execute_result"
    }
   ],
   "source": [
    "len(X_sub)"
   ]
  },
  {
   "cell_type": "code",
   "execution_count": 443,
   "metadata": {},
   "outputs": [],
   "source": [
    "y_sub_pred = rfc.predict_proba(X_sub)\n",
    "y_sub_pred = y_sub_pred[:,1]"
   ]
  },
  {
   "cell_type": "code",
   "execution_count": 444,
   "metadata": {},
   "outputs": [],
   "source": [
    "submission = pd.Series(y_sub_pred, index=np.arange(1, len(y_sub_pred)+1))"
   ]
  },
  {
   "cell_type": "code",
   "execution_count": 445,
   "metadata": {},
   "outputs": [
    {
     "data": {
      "text/plain": [
       "1    0.58\n",
       "2    0.63\n",
       "3    0.00\n",
       "4    0.00\n",
       "5    0.08\n",
       "dtype: float64"
      ]
     },
     "execution_count": 445,
     "metadata": {},
     "output_type": "execute_result"
    }
   ],
   "source": [
    "submission.head()"
   ]
  },
  {
   "cell_type": "code",
   "execution_count": 446,
   "metadata": {},
   "outputs": [],
   "source": [
    "#submission.to_csv('../output/submission.csv')"
   ]
  },
  {
   "cell_type": "code",
   "execution_count": null,
   "metadata": {},
   "outputs": [],
   "source": []
  }
 ],
 "metadata": {
  "kernelspec": {
   "display_name": "Python 3",
   "language": "python",
   "name": "python3"
  },
  "language_info": {
   "codemirror_mode": {
    "name": "ipython",
    "version": 3
   },
   "file_extension": ".py",
   "mimetype": "text/x-python",
   "name": "python",
   "nbconvert_exporter": "python",
   "pygments_lexer": "ipython3",
   "version": "3.6.5"
  }
 },
 "nbformat": 4,
 "nbformat_minor": 2
}
